{
  "nbformat": 4,
  "nbformat_minor": 0,
  "metadata": {
    "colab": {
      "name": "4-PerformanceEval.ipynb",
      "provenance": [],
      "collapsed_sections": [],
      "toc_visible": true,
      "authorship_tag": "ABX9TyPh1dAvg9ar1pLzBh1Z1xz8",
      "include_colab_link": true
    },
    "kernelspec": {
      "name": "python3",
      "display_name": "Python 3"
    }
  },
  "cells": [
    {
      "cell_type": "markdown",
      "metadata": {
        "id": "view-in-github",
        "colab_type": "text"
      },
      "source": [
        "<a href=\"https://colab.research.google.com/github/khalil753/Bio-Project/blob/master/4_PerformanceEval.ipynb\" target=\"_parent\"><img src=\"https://colab.research.google.com/assets/colab-badge.svg\" alt=\"Open In Colab\"/></a>"
      ]
    },
    {
      "cell_type": "markdown",
      "metadata": {
        "id": "1smN5EBt08zq",
        "colab_type": "text"
      },
      "source": [
        "# **Description of the Notebook**\n",
        "\n",
        "In this notebook the performance of the three different models is compared."
      ]
    },
    {
      "cell_type": "markdown",
      "metadata": {
        "id": "bXpJ9p_X09_C",
        "colab_type": "text"
      },
      "source": [
        "# **Instructions of use of the Notebook**\n",
        "\n",
        "To make use of this notebook, one only needs to modify the \"path\" variable. After having modified the path variable, one may simple run the entire notebook."
      ]
    },
    {
      "cell_type": "markdown",
      "metadata": {
        "colab_type": "text",
        "id": "izCJoHbvaicx"
      },
      "source": [
        "# **Mounting libraries and defining global variables**"
      ]
    },
    {
      "cell_type": "code",
      "metadata": {
        "hide_input": false,
        "colab_type": "code",
        "id": "bH5RKh60QU1c",
        "colab": {
          "base_uri": "https://localhost:8080/",
          "height": 71
        },
        "outputId": "7c92253d-d278-460c-8636-4d1f9a0bfbbf"
      },
      "source": [
        "import fastai\n",
        "from fastai.vision import *\n",
        "from fastai.widgets import *\n",
        "\n",
        "import numpy as np\n",
        "import pandas as pd\n",
        "\n",
        "from pathlib import Path\n",
        "import os\n",
        "from os import listdir\n",
        "\n",
        "import matplotlib as mpl\n",
        "from matplotlib.pyplot import imshow\n",
        "import matplotlib.pyplot as plt\n",
        "\n",
        "import seaborn as sns\n",
        "\n",
        "import torch\n",
        "import torch.nn as nn\n",
        "import torch.nn.functional as F\n",
        "from torch import tensor"
      ],
      "execution_count": null,
      "outputs": [
        {
          "output_type": "stream",
          "text": [
            "/usr/local/lib/python3.6/dist-packages/statsmodels/tools/_testing.py:19: FutureWarning: pandas.util.testing is deprecated. Use the functions in the public API at pandas.testing instead.\n",
            "  import pandas.util.testing as tm\n"
          ],
          "name": "stderr"
        }
      ]
    },
    {
      "cell_type": "code",
      "metadata": {
        "colab_type": "code",
        "id": "cnuinQ0FQU0Q",
        "colab": {}
      },
      "source": [
        "%reload_ext autoreload\n",
        "%autoreload 2\n",
        "%matplotlib inline\n",
        "sns.set()"
      ],
      "execution_count": null,
      "outputs": []
    },
    {
      "cell_type": "code",
      "metadata": {
        "colab_type": "code",
        "id": "OZ3PE0iOQUyS",
        "colab": {}
      },
      "source": [
        "path = Path(r\"\")\n",
        "path_data = path/'data'\n",
        "path_losses = path/\"Performance Metrics\"/\"Losses\"\n",
        "\n",
        "classes = ['healthy', 'tumor', 'injury']\n",
        "\n",
        "def class2n(y):\n",
        "  return tensor([*map(lambda x: {'healthy':0, 'tumor':1, 'injury':2}[x], y)])\n",
        "\n",
        "def low_loss_idx(loss, idx, th):\n",
        "  n_good = (loss <= th).sum()\n",
        "  return idx[-n_good:]\n",
        "\n",
        "def conf_mat(preds, y):\n",
        "  c = y.max() + 1\n",
        "  preds = preds.argmax(1)\n",
        "  cf = np.zeros((c,c))\n",
        "  for pred, true in zip(preds, y):\n",
        "    cf[true, pred] += 1\n",
        "  return cf\n"
      ],
      "execution_count": null,
      "outputs": []
    },
    {
      "cell_type": "markdown",
      "metadata": {
        "id": "kQCJh_rm9Ttw",
        "colab_type": "text"
      },
      "source": [
        "# **Evaluating performance**"
      ]
    },
    {
      "cell_type": "markdown",
      "metadata": {
        "id": "__3ZskI0OKOw",
        "colab_type": "text"
      },
      "source": [
        "## *Comparing Accuracies*"
      ]
    },
    {
      "cell_type": "code",
      "metadata": {
        "colab_type": "code",
        "id": "afykSLxbmAN6",
        "colab": {
          "base_uri": "https://localhost:8080/",
          "height": 34
        },
        "outputId": "ab7de6a0-df73-4c95-a30d-67b6cb303807"
      },
      "source": [
        "data = pd.read_csv(path_data/'Clean Data'/'val.csv')\n",
        "y = class2n(data['y'])\n",
        "for n in range(1,4):\n",
        "  exec(f'preds{n} = tensor(np.load(path_data/\"Preds\"/\"p{n}.npy\"))')\n",
        "  exec(f'acc{n} = accuracy(preds{n}, y)')\n",
        "\n",
        "acc1, acc2, acc3"
      ],
      "execution_count": null,
      "outputs": [
        {
          "output_type": "execute_result",
          "data": {
            "text/plain": [
              "(tensor(0.7062), tensor(0.7210), tensor(0.7158))"
            ]
          },
          "metadata": {
            "tags": []
          },
          "execution_count": 5
        }
      ]
    },
    {
      "cell_type": "code",
      "metadata": {
        "id": "JPSr-Bzx3E4x",
        "colab_type": "code",
        "colab": {
          "base_uri": "https://localhost:8080/",
          "height": 306
        },
        "outputId": "c9a00c88-5347-491a-fe1a-527fa4f2bee3"
      },
      "source": [
        "cf1 = conf_mat(preds1, y)\n",
        "cf2 = conf_mat(preds2, y)\n",
        "cf3 = conf_mat(preds3, y)\n",
        "\n",
        "print(\"Model 1's Confusion Matrix:\\n\")\n",
        "print(cf1,'\\n')\n",
        "print(\"Model 2's Confusion Matrix:\\n\")\n",
        "print(cf2,'\\n')\n",
        "print(\"Model 3's Confusion Matrix:\\n\")\n",
        "print(cf3)"
      ],
      "execution_count": null,
      "outputs": [
        {
          "output_type": "stream",
          "text": [
            "Model 1's Confusion Matrix:\n",
            "\n",
            "[[1786.  214.  874.]\n",
            " [ 275. 1493.  446.]\n",
            " [ 186.  152. 1882.]] \n",
            "\n",
            "Model 2's Confusion Matrix:\n",
            "\n",
            "[[2011.  526.  337.]\n",
            " [ 364. 1768.   82.]\n",
            " [ 347.  383. 1490.]] \n",
            "\n",
            "Model 3's Confusion Matrix:\n",
            "\n",
            "[[2001.  279.  594.]\n",
            " [ 390. 1511.  313.]\n",
            " [ 315.  186. 1719.]]\n"
          ],
          "name": "stdout"
        }
      ]
    },
    {
      "cell_type": "markdown",
      "metadata": {
        "id": "wIsFMykCPwJP",
        "colab_type": "text"
      },
      "source": [
        "## *Studying performance in Low Loss Samples*\n",
        "\n",
        "In this part we compare the accuracy of the different models on samples with low losses. To do so, a loss threshold is defined, and accuracy of the models is calculated for the samples with a loss below the threshold. Several thresholds were chosen and a plot was made of how the accuracy changes as a function of these loss thresholds."
      ]
    },
    {
      "cell_type": "code",
      "metadata": {
        "id": "gJWuJ1pIP8gr",
        "colab_type": "code",
        "colab": {}
      },
      "source": [
        "for n in range(1,4):\n",
        "  exec(f'loss{n} = torch.load(path_data/\"Losses\"/\"val_losses{n}.pt\")')\n",
        "  exec(f'idx{n} = torch.load(path_data/\"Losses\"/\"val_idxs{n}.pt\")')"
      ],
      "execution_count": null,
      "outputs": []
    },
    {
      "cell_type": "code",
      "metadata": {
        "id": "QhH0v9kiSVIa",
        "colab_type": "code",
        "colab": {}
      },
      "source": [
        "ths = np.linspace(0,3, 3000)      # list of loss thresholds\n",
        "accs1, accs2, accs3 = [], [], []\n",
        "for th in ths:\n",
        "  for n in range(1,4):\n",
        "    exec(f'll_idx{n} = low_loss_idx(loss{n}, idx{n}, th)')\n",
        "    exec(f'preds{n} = tensor(np.load(path_data/\"Preds\"/\"p{n}.npy\"))')\n",
        "    exec(f'acc{n} = accuracy(preds{n}[ll_idx{n}], y[ll_idx{n}])*100')\n",
        "    exec(f'accs{n}.append(acc{n})')"
      ],
      "execution_count": null,
      "outputs": []
    },
    {
      "cell_type": "markdown",
      "metadata": {
        "id": "UQNa7XFL5N9c",
        "colab_type": "text"
      },
      "source": [
        "Here we plot the accuracies of the models as a function of the loss threshold. The second plot shows the same curve on the range of loss thresholds from 0.8 to 1.25."
      ]
    },
    {
      "cell_type": "code",
      "metadata": {
        "id": "gzFDNAJ1arye",
        "colab_type": "code",
        "colab": {
          "base_uri": "https://localhost:8080/",
          "height": 302
        },
        "outputId": "cf9a4654-36ae-489a-f4c9-2f9a998183da"
      },
      "source": [
        "fig, ax = plt.subplots(1, 2, figsize=(15,4))\n",
        "lines0 = ax[0].plot(ths, accs1, ths, accs2, ths, accs3, lw=2)    \n",
        "lines1 = ax[1].plot(ths, accs1, ths, accs2, ths, accs3, lw=2)    \n",
        "\n",
        "ax[0].legend(lines0, ('Dirty', 'Clean 1', 'Clean 2'))\n",
        "ax[0].set_xlim((0.59,2))\n",
        "ax[0].set_xlabel(\"Loss Threshold\")\n",
        "ax[0].set_ylabel(\"Accuracy\")\n",
        "\n",
        "ax[1].legend(lines1, ('Dirty', 'Clean 1', 'Clean 2'))\n",
        "ax[1].set_xlim((0.8,1.25))\n",
        "ax[1].set_ylim((77,101))\n",
        "ax[1].set_xlabel(\"Loss Threshold\")\n",
        "ax[1].set_ylabel(\"Accuracy\")\n"
      ],
      "execution_count": null,
      "outputs": [
        {
          "output_type": "execute_result",
          "data": {
            "text/plain": [
              "Text(0, 0.5, 'Accuracy')"
            ]
          },
          "metadata": {
            "tags": []
          },
          "execution_count": 21
        },
        {
          "output_type": "display_data",
          "data": {
            "image/png": "[encoded data removed]",
            "text/plain": [
              "<Figure size 1080x288 with 2 Axes>"
            ]
          },
          "metadata": {
            "tags": []
          }
        }
      ]
    },
    {
      "cell_type": "markdown",
      "metadata": {
        "id": "HabdY-7GWW9L",
        "colab_type": "text"
      },
      "source": [
        "From the curves one can see that for validation samples with a loss below 1 the \"clean\" models perform better than the \"dirty\" one, with \"clean 2\" having a (maybe negligibly) better accuracy. Between 1 and 1.1 (the range in which the lump in the loss histograms appears), the dirty model performs better. After 1.1 the clean models retake the lead in performance, \"clean 1\" having the best accuracies."
      ]
    },
    {
      "cell_type": "markdown",
      "metadata": {
        "id": "7kugSj1w8K4f",
        "colab_type": "text"
      },
      "source": [
        "## *Number of sampels of each class*\n",
        "\n",
        "This part of the code shows the number of samples of each class, at the different different stages of \"cleanliness\" of the trianing data."
      ]
    },
    {
      "cell_type": "code",
      "metadata": {
        "id": "_8285XKYztPA",
        "colab_type": "code",
        "colab": {
          "base_uri": "https://localhost:8080/",
          "height": 142
        },
        "outputId": "56c17472-163f-4420-8cbf-43390694db88"
      },
      "source": [
        "ns1 = np.zeros(3, dtype=np.int)\n",
        "ns2 = np.zeros(3, dtype=np.int)\n",
        "ns3 = np.zeros(3, dtype=np.int)\n",
        "for i, label in enumerate(classes):\n",
        "  ns1[i] = len(data.loc[data['y']==label])\n",
        "\n",
        "for i, label in enumerate(classes):\n",
        "  ns2[i] = len(data.loc[data['y']==label].loc[data['clean']==True])\n",
        "\n",
        "for i, label in enumerate(classes):\n",
        "  ns3[i] = len(data.loc[data['y']==label].loc[data['clean2']==True])\n",
        "\n",
        "ns = pd.DataFrame(np.array([ns1,ns2,ns3]).T, index=['healthy', 'tumor', 'injury'], columns=['Dirty', 'Clean 1', 'Clean 2'])\n",
        "ns "
      ],
      "execution_count": null,
      "outputs": [
        {
          "output_type": "execute_result",
          "data": {
            "text/html": [
              "<div>\n",
              "<style scoped>\n",
              "    .dataframe tbody tr th:only-of-type {\n",
              "        vertical-align: middle;\n",
              "    }\n",
              "\n",
              "    .dataframe tbody tr th {\n",
              "        vertical-align: top;\n",
              "    }\n",
              "\n",
              "    .dataframe thead th {\n",
              "        text-align: right;\n",
              "    }\n",
              "</style>\n",
              "<table border=\"1\" class=\"dataframe\">\n",
              "  <thead>\n",
              "    <tr style=\"text-align: right;\">\n",
              "      <th></th>\n",
              "      <th>Dirty</th>\n",
              "      <th>Clean 1</th>\n",
              "      <th>Clean 2</th>\n",
              "    </tr>\n",
              "  </thead>\n",
              "  <tbody>\n",
              "    <tr>\n",
              "      <th>healthy</th>\n",
              "      <td>2874</td>\n",
              "      <td>1767</td>\n",
              "      <td>2030</td>\n",
              "    </tr>\n",
              "    <tr>\n",
              "      <th>tumor</th>\n",
              "      <td>2214</td>\n",
              "      <td>1469</td>\n",
              "      <td>1481</td>\n",
              "    </tr>\n",
              "    <tr>\n",
              "      <th>injury</th>\n",
              "      <td>2220</td>\n",
              "      <td>1681</td>\n",
              "      <td>1601</td>\n",
              "    </tr>\n",
              "  </tbody>\n",
              "</table>\n",
              "</div>"
            ],
            "text/plain": [
              "         Dirty  Clean 1  Clean 2\n",
              "healthy   2874     1767     2030\n",
              "tumor     2214     1469     1481\n",
              "injury    2220     1681     1601"
            ]
          },
          "metadata": {
            "tags": []
          },
          "execution_count": 10
        }
      ]
    },
    {
      "cell_type": "markdown",
      "metadata": {
        "id": "s6qBi9S_9Ysu",
        "colab_type": "text"
      },
      "source": [
        "This part shows the removal rate of each class, at the different stages of cleanliness. "
      ]
    },
    {
      "cell_type": "code",
      "metadata": {
        "id": "OT35jnOaRCdN",
        "colab_type": "code",
        "colab": {
          "base_uri": "https://localhost:8080/",
          "height": 142
        },
        "outputId": "569dffe7-6bfc-4851-c698-b14fdc1f5e38"
      },
      "source": [
        "rr = (ns1[:,None] - ns.iloc[:,1:3])*100/ ns1[:,None]\n",
        "rr.round(decimals=2)"
      ],
      "execution_count": null,
      "outputs": [
        {
          "output_type": "execute_result",
          "data": {
            "text/html": [
              "<div>\n",
              "<style scoped>\n",
              "    .dataframe tbody tr th:only-of-type {\n",
              "        vertical-align: middle;\n",
              "    }\n",
              "\n",
              "    .dataframe tbody tr th {\n",
              "        vertical-align: top;\n",
              "    }\n",
              "\n",
              "    .dataframe thead th {\n",
              "        text-align: right;\n",
              "    }\n",
              "</style>\n",
              "<table border=\"1\" class=\"dataframe\">\n",
              "  <thead>\n",
              "    <tr style=\"text-align: right;\">\n",
              "      <th></th>\n",
              "      <th>Clean 1</th>\n",
              "      <th>Clean 2</th>\n",
              "    </tr>\n",
              "  </thead>\n",
              "  <tbody>\n",
              "    <tr>\n",
              "      <th>healthy</th>\n",
              "      <td>38.52</td>\n",
              "      <td>29.37</td>\n",
              "    </tr>\n",
              "    <tr>\n",
              "      <th>tumor</th>\n",
              "      <td>33.65</td>\n",
              "      <td>33.11</td>\n",
              "    </tr>\n",
              "    <tr>\n",
              "      <th>injury</th>\n",
              "      <td>24.28</td>\n",
              "      <td>27.88</td>\n",
              "    </tr>\n",
              "  </tbody>\n",
              "</table>\n",
              "</div>"
            ],
            "text/plain": [
              "         Clean 1  Clean 2\n",
              "healthy    38.52    29.37\n",
              "tumor      33.65    33.11\n",
              "injury     24.28    27.88"
            ]
          },
          "metadata": {
            "tags": []
          },
          "execution_count": 11
        }
      ]
    }
  ]
}