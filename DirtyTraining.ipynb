{
  "nbformat": 4,
  "nbformat_minor": 0,
  "metadata": {
    "colab": {
      "name": "DirtyTraining.ipynb",
      "provenance": [],
      "toc_visible": true,
      "authorship_tag": "ABX9TyNrKkzayV7gEEvTIzXv4C+V",
      "include_colab_link": true
    },
    "kernelspec": {
      "name": "python3",
      "display_name": "Python 3"
    },
    "widgets": {
      "application/vnd.jupyter.widget-state+json": {
        "8b6c11bb0ba14ac68842bcef541b9a72": {
          "model_module": "@jupyter-widgets/controls",
          "model_name": "HBoxModel",
          "state": {
            "_view_name": "HBoxView",
            "_dom_classes": [],
            "_model_name": "HBoxModel",
            "_view_module": "@jupyter-widgets/controls",
            "_model_module_version": "1.5.0",
            "_view_count": null,
            "_view_module_version": "1.5.0",
            "box_style": "",
            "layout": "IPY_MODEL_2a580c2d3521496b9b19da181f37d336",
            "_model_module": "@jupyter-widgets/controls",
            "children": [
              "IPY_MODEL_65040c9a3d5e40deaf6dd8be90500daf",
              "IPY_MODEL_32a424e82abc41019f7d96b25d5dc1e9"
            ]
          }
        },
        "2a580c2d3521496b9b19da181f37d336": {
          "model_module": "@jupyter-widgets/base",
          "model_name": "LayoutModel",
          "state": {
            "_view_name": "LayoutView",
            "grid_template_rows": null,
            "right": null,
            "justify_content": null,
            "_view_module": "@jupyter-widgets/base",
            "overflow": null,
            "_model_module_version": "1.2.0",
            "_view_count": null,
            "flex_flow": null,
            "width": null,
            "min_width": null,
            "border": null,
            "align_items": null,
            "bottom": null,
            "_model_module": "@jupyter-widgets/base",
            "top": null,
            "grid_column": null,
            "overflow_y": null,
            "overflow_x": null,
            "grid_auto_flow": null,
            "grid_area": null,
            "grid_template_columns": null,
            "flex": null,
            "_model_name": "LayoutModel",
            "justify_items": null,
            "grid_row": null,
            "max_height": null,
            "align_content": null,
            "visibility": null,
            "align_self": null,
            "height": null,
            "min_height": null,
            "padding": null,
            "grid_auto_rows": null,
            "grid_gap": null,
            "max_width": null,
            "order": null,
            "_view_module_version": "1.2.0",
            "grid_template_areas": null,
            "object_position": null,
            "object_fit": null,
            "grid_auto_columns": null,
            "margin": null,
            "display": null,
            "left": null
          }
        },
        "65040c9a3d5e40deaf6dd8be90500daf": {
          "model_module": "@jupyter-widgets/controls",
          "model_name": "IntProgressModel",
          "state": {
            "_view_name": "ProgressView",
            "style": "IPY_MODEL_227db521b75941a58fde07ae23d55b33",
            "_dom_classes": [],
            "description": "100%",
            "_model_name": "IntProgressModel",
            "bar_style": "success",
            "max": 46827520,
            "_view_module": "@jupyter-widgets/controls",
            "_model_module_version": "1.5.0",
            "value": 46827520,
            "_view_count": null,
            "_view_module_version": "1.5.0",
            "orientation": "horizontal",
            "min": 0,
            "description_tooltip": null,
            "_model_module": "@jupyter-widgets/controls",
            "layout": "IPY_MODEL_0fd59ba55a5349968c7a98acabb6a47e"
          }
        },
        "32a424e82abc41019f7d96b25d5dc1e9": {
          "model_module": "@jupyter-widgets/controls",
          "model_name": "HTMLModel",
          "state": {
            "_view_name": "HTMLView",
            "style": "IPY_MODEL_bd903f65c4f140b1a42321274ecb66d5",
            "_dom_classes": [],
            "description": "",
            "_model_name": "HTMLModel",
            "placeholder": "​",
            "_view_module": "@jupyter-widgets/controls",
            "_model_module_version": "1.5.0",
            "value": " 44.7M/44.7M [00:03&lt;00:00, 14.1MB/s]",
            "_view_count": null,
            "_view_module_version": "1.5.0",
            "description_tooltip": null,
            "_model_module": "@jupyter-widgets/controls",
            "layout": "IPY_MODEL_210ef8d69b2a43d49557038cfd0c0556"
          }
        },
        "227db521b75941a58fde07ae23d55b33": {
          "model_module": "@jupyter-widgets/controls",
          "model_name": "ProgressStyleModel",
          "state": {
            "_view_name": "StyleView",
            "_model_name": "ProgressStyleModel",
            "description_width": "initial",
            "_view_module": "@jupyter-widgets/base",
            "_model_module_version": "1.5.0",
            "_view_count": null,
            "_view_module_version": "1.2.0",
            "bar_color": null,
            "_model_module": "@jupyter-widgets/controls"
          }
        },
        "0fd59ba55a5349968c7a98acabb6a47e": {
          "model_module": "@jupyter-widgets/base",
          "model_name": "LayoutModel",
          "state": {
            "_view_name": "LayoutView",
            "grid_template_rows": null,
            "right": null,
            "justify_content": null,
            "_view_module": "@jupyter-widgets/base",
            "overflow": null,
            "_model_module_version": "1.2.0",
            "_view_count": null,
            "flex_flow": null,
            "width": null,
            "min_width": null,
            "border": null,
            "align_items": null,
            "bottom": null,
            "_model_module": "@jupyter-widgets/base",
            "top": null,
            "grid_column": null,
            "overflow_y": null,
            "overflow_x": null,
            "grid_auto_flow": null,
            "grid_area": null,
            "grid_template_columns": null,
            "flex": null,
            "_model_name": "LayoutModel",
            "justify_items": null,
            "grid_row": null,
            "max_height": null,
            "align_content": null,
            "visibility": null,
            "align_self": null,
            "height": null,
            "min_height": null,
            "padding": null,
            "grid_auto_rows": null,
            "grid_gap": null,
            "max_width": null,
            "order": null,
            "_view_module_version": "1.2.0",
            "grid_template_areas": null,
            "object_position": null,
            "object_fit": null,
            "grid_auto_columns": null,
            "margin": null,
            "display": null,
            "left": null
          }
        },
        "bd903f65c4f140b1a42321274ecb66d5": {
          "model_module": "@jupyter-widgets/controls",
          "model_name": "DescriptionStyleModel",
          "state": {
            "_view_name": "StyleView",
            "_model_name": "DescriptionStyleModel",
            "description_width": "",
            "_view_module": "@jupyter-widgets/base",
            "_model_module_version": "1.5.0",
            "_view_count": null,
            "_view_module_version": "1.2.0",
            "_model_module": "@jupyter-widgets/controls"
          }
        },
        "210ef8d69b2a43d49557038cfd0c0556": {
          "model_module": "@jupyter-widgets/base",
          "model_name": "LayoutModel",
          "state": {
            "_view_name": "LayoutView",
            "grid_template_rows": null,
            "right": null,
            "justify_content": null,
            "_view_module": "@jupyter-widgets/base",
            "overflow": null,
            "_model_module_version": "1.2.0",
            "_view_count": null,
            "flex_flow": null,
            "width": null,
            "min_width": null,
            "border": null,
            "align_items": null,
            "bottom": null,
            "_model_module": "@jupyter-widgets/base",
            "top": null,
            "grid_column": null,
            "overflow_y": null,
            "overflow_x": null,
            "grid_auto_flow": null,
            "grid_area": null,
            "grid_template_columns": null,
            "flex": null,
            "_model_name": "LayoutModel",
            "justify_items": null,
            "grid_row": null,
            "max_height": null,
            "align_content": null,
            "visibility": null,
            "align_self": null,
            "height": null,
            "min_height": null,
            "padding": null,
            "grid_auto_rows": null,
            "grid_gap": null,
            "max_width": null,
            "order": null,
            "_view_module_version": "1.2.0",
            "grid_template_areas": null,
            "object_position": null,
            "object_fit": null,
            "grid_auto_columns": null,
            "margin": null,
            "display": null,
            "left": null
          }
        }
      }
    }
  },
  "cells": [
    {
      "cell_type": "markdown",
      "metadata": {
        "id": "view-in-github",
        "colab_type": "text"
      },
      "source": [
        "<a href=\"https://colab.research.google.com/github/khalil753/Bio-Project/blob/master/DirtyTraining.ipynb\" target=\"_parent\"><img src=\"https://colab.research.google.com/assets/colab-badge.svg\" alt=\"Open In Colab\"/></a>"
      ]
    },
    {
      "cell_type": "markdown",
      "metadata": {
        "colab_type": "text",
        "id": "zy5qsBSbQU3R"
      },
      "source": [
        "# **Mounting libraries and defining global variables**"
      ]
    },
    {
      "cell_type": "code",
      "metadata": {
        "hide_input": false,
        "colab_type": "code",
        "id": "bH5RKh60QU1c",
        "outputId": "123d44f0-a0cb-48c1-c06b-35c35b3c948e",
        "colab": {
          "base_uri": "https://localhost:8080/",
          "height": 71
        }
      },
      "source": [
        "import fastai\n",
        "from fastai.vision import *\n",
        "from fastai.widgets import *\n",
        "\n",
        "import numpy as np\n",
        "import pandas as pd\n",
        "\n",
        "from pathlib import Path\n",
        "import os\n",
        "from os import listdir\n",
        "\n",
        "import matplotlib as mpl\n",
        "from matplotlib.pyplot import imshow\n",
        "import matplotlib.pyplot as plt\n",
        "\n",
        "import seaborn as sns\n",
        "\n",
        "import torch\n",
        "import torch.nn as nn\n",
        "import torch.nn.functional as F\n",
        "from torch import tensor"
      ],
      "execution_count": 0,
      "outputs": [
        {
          "output_type": "stream",
          "text": [
            "/usr/local/lib/python3.6/dist-packages/statsmodels/tools/_testing.py:19: FutureWarning: pandas.util.testing is deprecated. Use the functions in the public API at pandas.testing instead.\n",
            "  import pandas.util.testing as tm\n"
          ],
          "name": "stderr"
        }
      ]
    },
    {
      "cell_type": "code",
      "metadata": {
        "colab_type": "code",
        "id": "cnuinQ0FQU0Q",
        "colab": {}
      },
      "source": [
        "%reload_ext autoreload\n",
        "%autoreload 2\n",
        "%matplotlib inline\n",
        "sns.set()"
      ],
      "execution_count": 0,
      "outputs": []
    },
    {
      "cell_type": "code",
      "metadata": {
        "colab_type": "code",
        "id": "eKNzm6VhQUzO",
        "outputId": "90c12e66-b3ac-4675-9955-172558e469a6",
        "colab": {
          "base_uri": "https://localhost:8080/",
          "height": 122
        }
      },
      "source": [
        "from google.colab import drive\n",
        "drive.mount('/content/gdrive')"
      ],
      "execution_count": 0,
      "outputs": [
        {
          "output_type": "stream",
          "text": [
            "Go to this URL in a browser: https://accounts.google.com/o/oauth2/auth?client_id=947318989803-6bn6qk8qdgf4n4g3pfee6491hc0brc4i.apps.googleusercontent.com&redirect_uri=urn%3aietf%3awg%3aoauth%3a2.0%3aoob&response_type=code&scope=email%20https%3a%2f%2fwww.googleapis.com%2fauth%2fdocs.test%20https%3a%2f%2fwww.googleapis.com%2fauth%2fdrive%20https%3a%2f%2fwww.googleapis.com%2fauth%2fdrive.photos.readonly%20https%3a%2f%2fwww.googleapis.com%2fauth%2fpeopleapi.readonly\n",
            "\n",
            "Enter your authorization code:\n",
            "··········\n",
            "Mounted at /content/gdrive\n"
          ],
          "name": "stdout"
        }
      ]
    },
    {
      "cell_type": "code",
      "metadata": {
        "colab_type": "code",
        "id": "OZ3PE0iOQUyS",
        "colab": {}
      },
      "source": [
        "path = Path(r\"/content/gdrive/My Drive/Mestría en Física de Sistemas Complejos/Tercer semestre/Inference in Biological Systems/Project\")\n",
        "path_data = path/'data'\n",
        "path_clean_losses = path_data/\"Clean Losses\"\n",
        "path_losses = path_data/\"Losses\"\n",
        "\n",
        "classes = ['healthy', 'tumor', 'injury']\n",
        "\n",
        "model_folder = Path(\"Model 1\")"
      ],
      "execution_count": 0,
      "outputs": []
    },
    {
      "cell_type": "markdown",
      "metadata": {
        "id": "j5NkmvD3w8gZ",
        "colab_type": "text"
      },
      "source": [
        "# **Training the model**"
      ]
    },
    {
      "cell_type": "code",
      "metadata": {
        "id": "EtTQjqIShKHu",
        "colab_type": "code",
        "colab": {}
      },
      "source": [
        "finding_lr = True\n",
        "training = True"
      ],
      "execution_count": 0,
      "outputs": []
    },
    {
      "cell_type": "markdown",
      "metadata": {
        "id": "KI6edW0ww8fj",
        "colab_type": "text"
      },
      "source": [
        "## *Loading Data and Model* "
      ]
    },
    {
      "cell_type": "code",
      "metadata": {
        "id": "UCEFXuNrw8f1",
        "colab_type": "code",
        "colab": {}
      },
      "source": [
        "path_data = path/'data'\n",
        "tfms = get_transforms(do_flip=True)\n",
        "data = ImageDataBunch.from_folder(path_data, ds_tfms=tfms, size=32,  \n",
        "                                        train=\"train\",\n",
        "                                        valid=\"val\",\n",
        "                                        classes=classes, bs=100,\n",
        "                                        num_workers=1).normalize(imagenet_stats)"
      ],
      "execution_count": 0,
      "outputs": []
    },
    {
      "cell_type": "code",
      "metadata": {
        "colab_type": "code",
        "id": "JrpEbTjDFk4L",
        "outputId": "35a096b0-905f-4b69-f5a6-047fbb00a9dd",
        "colab": {
          "base_uri": "https://localhost:8080/",
          "referenced_widgets": [
            "8b6c11bb0ba14ac68842bcef541b9a72",
            "2a580c2d3521496b9b19da181f37d336",
            "65040c9a3d5e40deaf6dd8be90500daf",
            "32a424e82abc41019f7d96b25d5dc1e9",
            "227db521b75941a58fde07ae23d55b33",
            "0fd59ba55a5349968c7a98acabb6a47e",
            "bd903f65c4f140b1a42321274ecb66d5",
            "210ef8d69b2a43d49557038cfd0c0556"
          ]
        }
      },
      "source": [
        "learn = cnn_learner(data, models.resnet18, metrics=accuracy, path=path_data)"
      ],
      "execution_count": 0,
      "outputs": [
        {
          "output_type": "stream",
          "text": [
            "Downloading: \"https://download.pytorch.org/models/resnet18-5c106cde.pth\" to /root/.cache/torch/checkpoints/resnet18-5c106cde.pth\n"
          ],
          "name": "stderr"
        },
        {
          "output_type": "display_data",
          "data": {
            "application/vnd.jupyter.widget-view+json": {
              "model_id": "8b6c11bb0ba14ac68842bcef541b9a72",
              "version_minor": 0,
              "version_major": 2
            },
            "text/plain": [
              "HBox(children=(IntProgress(value=0, max=46827520), HTML(value='')))"
            ]
          },
          "metadata": {
            "tags": []
          }
        },
        {
          "output_type": "stream",
          "text": [
            "\n"
          ],
          "name": "stdout"
        }
      ]
    },
    {
      "cell_type": "markdown",
      "metadata": {
        "id": "Nzh2N0OBl3ay",
        "colab_type": "text"
      },
      "source": [
        "## *Finding the best Learning Rate*"
      ]
    },
    {
      "cell_type": "code",
      "metadata": {
        "id": "6Y6M-UKCPpyx",
        "colab_type": "code",
        "colab": {}
      },
      "source": [
        "if finding_lr:\n",
        "  learn.lr_find()"
      ],
      "execution_count": 0,
      "outputs": []
    },
    {
      "cell_type": "code",
      "metadata": {
        "id": "R8cWbbgaZr_I",
        "colab_type": "code",
        "colab": {}
      },
      "source": [
        "if finding_lr:\n",
        "  learn.recorder.plot()"
      ],
      "execution_count": 0,
      "outputs": []
    },
    {
      "cell_type": "markdown",
      "metadata": {
        "id": "jiwhxluJmCTO",
        "colab_type": "text"
      },
      "source": [
        "## *Training the fully connected layers of the NN*"
      ]
    },
    {
      "cell_type": "code",
      "metadata": {
        "id": "iY76IBZwq49J",
        "colab_type": "code",
        "colab": {}
      },
      "source": [
        "if training:\n",
        "  learn.fit_one_cycle(15, max_lr=0.002)"
      ],
      "execution_count": 0,
      "outputs": []
    },
    {
      "cell_type": "code",
      "metadata": {
        "id": "WmBW4gL9w8g3",
        "colab_type": "code",
        "colab": {}
      },
      "source": [
        "if training: learn.save(model_folder/'stage-1')"
      ],
      "execution_count": 0,
      "outputs": []
    },
    {
      "cell_type": "markdown",
      "metadata": {
        "id": "Afy3dLHamUYR",
        "colab_type": "text"
      },
      "source": [
        "## *Fine tuning the model*"
      ]
    },
    {
      "cell_type": "code",
      "metadata": {
        "id": "qJH_xxS7w8hf",
        "colab_type": "code",
        "colab": {}
      },
      "source": [
        "if training: \n",
        "  learn.load(model_folder/'stage-1')\n",
        "  learn.unfreeze()\n",
        "  learn.fit_one_cycle(10, max_lr=slice(3e-5,3e-4))"
      ],
      "execution_count": 0,
      "outputs": []
    },
    {
      "cell_type": "code",
      "metadata": {
        "id": "_jUdV4Jrw8hm",
        "colab_type": "code",
        "colab": {}
      },
      "source": [
        "if training: learn.save(model_folder/'stage-2')"
      ],
      "execution_count": 0,
      "outputs": []
    },
    {
      "cell_type": "markdown",
      "metadata": {
        "id": "yuAy62c4DvzT",
        "colab_type": "text"
      },
      "source": [
        "Since the model without fine tuning was best:"
      ]
    },
    {
      "cell_type": "code",
      "metadata": {
        "id": "TehBK1IADtwt",
        "colab_type": "code",
        "colab": {}
      },
      "source": [
        "if training:\n",
        "  learn.load(model_folder/'stage-2')"
      ],
      "execution_count": 0,
      "outputs": []
    },
    {
      "cell_type": "markdown",
      "metadata": {
        "id": "F06Hu96vmg74",
        "colab_type": "text"
      },
      "source": [
        "# **Studying the Losses**"
      ]
    },
    {
      "cell_type": "markdown",
      "metadata": {
        "id": "wg9BFzGZwdMk",
        "colab_type": "text"
      },
      "source": [
        "## *Calculating validation and training loss*"
      ]
    },
    {
      "cell_type": "code",
      "metadata": {
        "id": "rMf_bD5_jMyZ",
        "colab_type": "code",
        "colab": {}
      },
      "source": [
        "calculating_losses = False"
      ],
      "execution_count": 0,
      "outputs": []
    },
    {
      "cell_type": "code",
      "metadata": {
        "colab_type": "code",
        "id": "Azp-RSlB2lKb",
        "colab": {}
      },
      "source": [
        "if calculating_losses:\n",
        "  val_interp = ClassificationInterpretation.from_learner(learn, ds_type=DatasetType.Valid)\n",
        "  train_interp = ClassificationInterpretation.from_learner(learn, ds_type=DatasetType.Train)"
      ],
      "execution_count": 0,
      "outputs": []
    },
    {
      "cell_type": "code",
      "metadata": {
        "id": "Ao3LpyFP98yt",
        "colab_type": "code",
        "colab": {}
      },
      "source": [
        "if calculating_losses:\n",
        "  (val_losses, val_idxs), (train_losses, train_idxs) = val_interp.top_losses(), train_interp.top_losses()\n",
        "  torch.save(train_losses, path_losses/'train_losses1.pt')\n",
        "  torch.save(train_idxs, path_losses/'train_idxs1.pt')\n",
        "  torch.save(val_losses, path_losses/'val_losses1.pt')\n",
        "  torch.save(val_idxs, path_losses/'val_idxs1.pt')"
      ],
      "execution_count": 0,
      "outputs": []
    },
    {
      "cell_type": "markdown",
      "metadata": {
        "id": "y4OyoTDcPbij",
        "colab_type": "text"
      },
      "source": [
        "## *Saving Predictions and Confusion Matrix*\n",
        "\n",
        "We save the predictions to not have to recalculate them in the future"
      ]
    },
    {
      "cell_type": "code",
      "metadata": {
        "id": "NzjcpENW0ftc",
        "colab_type": "code",
        "colab": {}
      },
      "source": [
        "if calculating_losses:\n",
        "  cm = val_interp.confusion_matrix()\n",
        "  preds = val_interp.preds\n",
        "  np.save(path_data/\"Confusion Matrices\"/\"CM1\", cm)\n",
        "  np.save(path_data/\"Preds\"/\"p1\", preds)"
      ],
      "execution_count": 0,
      "outputs": []
    },
    {
      "cell_type": "markdown",
      "metadata": {
        "id": "wT8qki0twiNz",
        "colab_type": "text"
      },
      "source": [
        "## *Plotting Loss Histograms*"
      ]
    },
    {
      "cell_type": "code",
      "metadata": {
        "id": "f94aB7Ixwpo5",
        "colab_type": "code",
        "colab": {}
      },
      "source": [
        "train_losses = torch.load(path_losses/'train_losses1.pt')\n",
        "val_losses = torch.load(path_losses/'val_losses1.pt')\n",
        "losses = [train_losses, val_losses]\n",
        "\n",
        "train_idxs = torch.load(path_losses/'train_idxs1.pt')\n",
        "val_idxs = torch.load(path_losses/'val_idxs1.pt')\n",
        "losses = [train_losses, val_losses]\n",
        "idxs = [train_idxs, val_idxs]"
      ],
      "execution_count": 0,
      "outputs": []
    },
    {
      "cell_type": "code",
      "metadata": {
        "id": "gLzmAaLY9dIc",
        "colab_type": "code",
        "outputId": "110e942b-b422-4486-8dc6-54e65b2c1bcc",
        "colab": {
          "base_uri": "https://localhost:8080/",
          "height": 293
        }
      },
      "source": [
        "n_plots = 2\n",
        "fig, ax = plt.subplots(1, n_plots, figsize = (6*n_plots,4))\n",
        "\n",
        "xlims = [(-0.25,1.4), (-.25, 1.6)]\n",
        "names = [\"Train\", \"Validation\"]\n",
        "bins = [240, 300]\n",
        "for name, loss, axis, xlim, b in zip(names, losses, ax, xlims, bins):\n",
        "  axis.set_xlim(*xlim)\n",
        "  axis.set_ylim(0,900)\n",
        "  axis.set_title(name + \" Losses\", fontsize=18)\n",
        "  hist = axis.hist(loss, bins=b, color=\"#3F5D7D\", rwidth=.95)  \n",
        "plt.tight_layout()\n",
        "plt.show()\n",
        "fig.savefig(path/\"fig\"/\"Loss_Hist1.png\")"
      ],
      "execution_count": 0,
      "outputs": [
        {
          "output_type": "display_data",
          "data": {
            "image/png": "[encoded data removed]",
            "text/plain": [
              "<Figure size 864x288 with 2 Axes>"
            ]
          },
          "metadata": {
            "tags": []
          }
        }
      ]
    },
    {
      "cell_type": "markdown",
      "metadata": {
        "id": "a45TaL8FFJJM",
        "colab_type": "text"
      },
      "source": [
        "## *Removing high loss images*"
      ]
    },
    {
      "cell_type": "code",
      "metadata": {
        "id": "iyGn0PyBA4kw",
        "colab_type": "code",
        "outputId": "684eae0c-10a8-4652-fd3b-c4e5dfb04acb",
        "colab": {
          "base_uri": "https://localhost:8080/",
          "height": 327
        }
      },
      "source": [
        "thresholds = [.5, 1]\n",
        "dfs = [data.train_ds.to_df(), data.valid_ds.to_df()]\n",
        "names = [\"train\", \"val\"]\n",
        "is_valid = [\"False\", \"True\"]\n",
        "n_plots = 2\n",
        "fig, ax = plt.subplots(1, n_plots, figsize = (6*n_plots,4))\n",
        "\n",
        "for loss, idx, th, df, name, is_val, axis  in zip (losses, idxs, thresholds, dfs, names, is_valid, ax):\n",
        "  # Defining the \"is_valid\" column to define ImageLists from df later on\n",
        "  df[\"is_valid\"] = is_val\n",
        "  n_good = (loss <= th).sum()\n",
        "\n",
        "  # Plotting hists of low loss images\n",
        "  axis.set_xlim(-0.05, 1.1)\n",
        "  axis.set_ylim(0,900)\n",
        "  axis.set_title(name + \" Losses\", fontsize=18)\n",
        "  hist = axis.hist(loss[-n_good:], bins=40, color=\"#3F5D7D\", rwidth=.95)  \n",
        "\n",
        "  # Adding a column clean to indicate the low loss samples\n",
        "  good_idx = idx[-n_good:]\n",
        "  clean = np.zeros(len(df), dtype=bool)\n",
        "  clean[good_idx] = True\n",
        "  p = float(n_good)/len(df)*100\n",
        "  print(f\"{name}: {n_good}/{len(df)} = {p:0.0f}%\")\n",
        "  df[\"clean\"] = clean\n",
        "  df.to_csv(path_data/\"Clean Data\"/f\"{name}.csv\", index=False)\n",
        "\n",
        "plt.tight_layout()\n",
        "plt.show()"
      ],
      "execution_count": 0,
      "outputs": [
        {
          "output_type": "stream",
          "text": [
            "train: 9571/12335 = 78%\n",
            "val: 4917/7308 = 67%\n"
          ],
          "name": "stdout"
        },
        {
          "output_type": "display_data",
          "data": {
            "image/png": "[encoded data removed]",
            "text/plain": [
              "<Figure size 864x288 with 2 Axes>"
            ]
          },
          "metadata": {
            "tags": []
          }
        }
      ]
    },
    {
      "cell_type": "code",
      "metadata": {
        "id": "4BOwwsCIUidk",
        "colab_type": "code",
        "colab": {}
      },
      "source": [
        ""
      ],
      "execution_count": 0,
      "outputs": []
    }
  ]
}