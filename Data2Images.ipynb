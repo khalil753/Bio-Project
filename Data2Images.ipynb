{
  "nbformat": 4,
  "nbformat_minor": 0,
  "metadata": {
    "colab": {
      "name": "Data2Images.ipynb",
      "provenance": [],
      "toc_visible": true,
      "authorship_tag": "ABX9TyOVFIwKXV6wciNOOEsL7pCy",
      "include_colab_link": true
    },
    "kernelspec": {
      "name": "python3",
      "display_name": "Python 3"
    }
  },
  "cells": [
    {
      "cell_type": "markdown",
      "metadata": {
        "id": "view-in-github",
        "colab_type": "text"
      },
      "source": [
        "<a href=\"https://colab.research.google.com/github/khalil753/Bio-Project/blob/master/Data2Images.ipynb\" target=\"_parent\"><img src=\"https://colab.research.google.com/assets/colab-badge.svg\" alt=\"Open In Colab\"/></a>"
      ]
    },
    {
      "cell_type": "markdown",
      "metadata": {
        "id": "7UHy-SM10rcq",
        "colab_type": "text"
      },
      "source": [
        "# **Mounting libraries and defining global variables**"
      ]
    },
    {
      "cell_type": "code",
      "metadata": {
        "hide_input": false,
        "id": "BDSdXL_ow8cw",
        "colab_type": "code",
        "colab": {}
      },
      "source": [
        "import fastai\n",
        "from fastai.vision import *\n",
        "from fastai.widgets import *\n",
        "\n",
        "import numpy as np\n",
        "import pandas as pd\n",
        "\n",
        "from pathlib import Path\n",
        "import os\n",
        "from os import listdir\n",
        "\n",
        "import matplotlib as mpl\n",
        "from matplotlib.pyplot import imshow\n",
        "import matplotlib.pyplot as plt\n",
        "\n",
        "import seaborn as sns\n",
        "\n",
        "import torch\n",
        "import torch.nn as nn\n",
        "import torch.nn.functional as F\n",
        "from torch import tensor"
      ],
      "execution_count": 0,
      "outputs": []
    },
    {
      "cell_type": "code",
      "metadata": {
        "id": "zO4iAf8XkPG6",
        "colab_type": "code",
        "colab": {}
      },
      "source": [
        "%reload_ext autoreload\n",
        "%autoreload 2\n",
        "%matplotlib inline"
      ],
      "execution_count": 0,
      "outputs": []
    },
    {
      "cell_type": "code",
      "metadata": {
        "id": "LRDE-f-4kPwK",
        "colab_type": "code",
        "outputId": "74912d01-e0b4-4038-8ba3-d4f561ed88db",
        "colab": {
          "base_uri": "https://localhost:8080/",
          "height": 122
        }
      },
      "source": [
        "from google.colab import drive\n",
        "drive.mount('/content/gdrive')"
      ],
      "execution_count": 3,
      "outputs": [
        {
          "output_type": "stream",
          "text": [
            "Go to this URL in a browser: https://accounts.google.com/o/oauth2/auth?client_id=947318989803-6bn6qk8qdgf4n4g3pfee6491hc0brc4i.apps.googleusercontent.com&redirect_uri=urn%3aietf%3awg%3aoauth%3a2.0%3aoob&response_type=code&scope=email%20https%3a%2f%2fwww.googleapis.com%2fauth%2fdocs.test%20https%3a%2f%2fwww.googleapis.com%2fauth%2fdrive%20https%3a%2f%2fwww.googleapis.com%2fauth%2fdrive.photos.readonly%20https%3a%2f%2fwww.googleapis.com%2fauth%2fpeopleapi.readonly\n",
            "\n",
            "Enter your authorization code:\n",
            "··········\n",
            "Mounted at /content/gdrive\n"
          ],
          "name": "stdout"
        }
      ]
    },
    {
      "cell_type": "code",
      "metadata": {
        "id": "umjxrfWNr1JU",
        "colab_type": "code",
        "colab": {}
      },
      "source": [
        "path = Path(r\"/content/gdrive/My Drive/Mestría en Física de Sistemas Complejos/Tercer semestre/Inference in Biological Systems/Project\")\n",
        "path_data = path/'data'\n",
        "classes = ['healthy', 'tumor', 'injury']"
      ],
      "execution_count": 0,
      "outputs": []
    },
    {
      "cell_type": "markdown",
      "metadata": {
        "id": "2wQAlg0fkZgs",
        "colab_type": "text"
      },
      "source": [
        "# **Loading the data**"
      ]
    },
    {
      "cell_type": "markdown",
      "metadata": {
        "id": "0k4oDsljkc81",
        "colab_type": "text"
      },
      "source": [
        "## As numpy arrays"
      ]
    },
    {
      "cell_type": "code",
      "metadata": {
        "colab_type": "code",
        "id": "QFU-pEng089P",
        "outputId": "2ce620ef-3e70-4cd7-8c25-552f0b63afb9",
        "colab": {
          "base_uri": "https://localhost:8080/",
          "height": 119
        }
      },
      "source": [
        "files = listdir(path)\n",
        "for file in files:\n",
        "  file = Path(file)\n",
        "  if file.suffix == '.npy':\n",
        "    print(file)\n",
        "    file_stem = str(file.stem)\n",
        "    if file_stem == 'real_classes_test' or file_stem == 'real_classes_train':\n",
        "      exec(f'{file_stem} = np.load(path/file, allow_pickle = True)') \n",
        "    else: \n",
        "      exec(f'{file_stem} = np.load(path/file, allow_pickle = True)')\n",
        "X_val = X_test\n",
        "Y_val = Y_test"
      ],
      "execution_count": 21,
      "outputs": [
        {
          "output_type": "stream",
          "text": [
            "X_train.npy\n",
            "X_test.npy\n",
            "Y_train.npy\n",
            "real_classes_test.npy\n",
            "Y_test.npy\n",
            "real_classes_train.npy\n"
          ],
          "name": "stdout"
        }
      ]
    },
    {
      "cell_type": "markdown",
      "metadata": {
        "colab_type": "text",
        "id": "92_fiF7R9ucC"
      },
      "source": [
        "## Transforming the data into rgb [0:255]\n",
        "\n",
        "To save the arrays as png images, they must contain integers from 0 to 255. the changeRGBtype function takes care of that."
      ]
    },
    {
      "cell_type": "code",
      "metadata": {
        "id": "HV_VVDaaZDED",
        "colab_type": "code",
        "colab": {}
      },
      "source": [
        "def flatten(X):\n",
        "    org_shape = X.shape\n",
        "    n_pixel = torch.tensor(org_shape[1:]).prod().item()\n",
        "    X = X.view((-1,n_pixel))\n",
        "    return X, org_shape\n",
        "\n",
        "def changeRGBtype(X):\n",
        "  X = torch.tensor(X)\n",
        "  X, org_shape = flatten(X)\n",
        "  X -= X.min(axis=1)[0].unsqueeze(-1)\n",
        "  X /= 2\n",
        "  X *= 255\n",
        "  return np.array(X.view(org_shape)).astype(np.uint8)\n"
      ],
      "execution_count": 0,
      "outputs": []
    },
    {
      "cell_type": "code",
      "metadata": {
        "id": "TJ__MbNg59v8",
        "colab_type": "code",
        "colab": {}
      },
      "source": [
        "X_val = changeRGBtype(X_val)\n",
        "X_train = changeRGBtype(X_train)"
      ],
      "execution_count": 0,
      "outputs": []
    },
    {
      "cell_type": "code",
      "metadata": {
        "id": "g_zIYDk9NbSS",
        "colab_type": "code",
        "colab": {
          "base_uri": "https://localhost:8080/",
          "height": 447
        },
        "outputId": "f32bdad1-4055-47b0-b635-08403e480be4"
      },
      "source": [
        "imshow(X_val[3])"
      ],
      "execution_count": 24,
      "outputs": [
        {
          "output_type": "execute_result",
          "data": {
            "text/plain": [
              "<matplotlib.image.AxesImage at 0x7f980c6ae208>"
            ]
          },
          "metadata": {
            "tags": []
          },
          "execution_count": 24
        },
        {
          "output_type": "display_data",
          "data": {
            "image/png": "[encoded data removed]",
            "text/plain": [
              "<Figure size 640x480 with 1 Axes>"
            ]
          },
          "metadata": {
            "tags": []
          }
        }
      ]
    },
    {
      "cell_type": "markdown",
      "metadata": {
        "id": "ZXUIOueSCRrm",
        "colab_type": "text"
      },
      "source": [
        "# **Saving Images in folders**\n",
        "\n",
        "These functions create the folder structure and save the images there. The structure consists of two folders, onw called train and other called val, for training and validation images respectively. Inside of each, there's a folder for each class, namely, healthy, tumor and injury."
      ]
    },
    {
      "cell_type": "code",
      "metadata": {
        "id": "nOvQ_f_v3At6",
        "colab_type": "code",
        "colab": {}
      },
      "source": [
        "def create_folders(path, fnames, classes):\n",
        "  for name in fnames:\n",
        "    if not os.path.isdir(path/name): \n",
        "      os.mkdir(path/name)      \n",
        "    for label in classes:\n",
        "      if not os.path.isdir(path/name/label):     \n",
        "        os.mkdir(path/name/label)\n",
        "\n",
        "def save_imgs(path, X, y, classes):\n",
        "  labels = map(lambda x: classes[x], y)\n",
        "  c = len(classes)\n",
        "  count = dict([*zip(classes, np.zeros(c, dtype=np.int))])\n",
        "  for x, label in zip(X, labels):\n",
        "    im = Image.fromarray(x)\n",
        "    count[label] += 1\n",
        "    n_class = count[label]\n",
        "    path_img = path/label/f'{n_class}.png'\n",
        "    if not os.path.isfile(path_img): im.save(path_img) "
      ],
      "execution_count": 0,
      "outputs": []
    },
    {
      "cell_type": "code",
      "metadata": {
        "colab_type": "code",
        "id": "K6RKr7bTR3na",
        "colab": {}
      },
      "source": [
        "def npdata2folder(path, X_train, y_train, X_val, y_val, classes):\n",
        "  fnames = ['val', 'train']\n",
        "  create_folders(path, fnames, classes)\n",
        "\n",
        "  data_sets = [X_val, X_train]\n",
        "  data_labels = [y_val, y_train]\n",
        "  for X, y, fname in zip(data_sets, data_labels, fnames):   \n",
        "    save_imgs(path/fname, X, y, classes)"
      ],
      "execution_count": 0,
      "outputs": []
    },
    {
      "cell_type": "code",
      "metadata": {
        "id": "jBtsCrPGR4gP",
        "colab_type": "code",
        "colab": {}
      },
      "source": [
        "path_data = path/'data'\n",
        "if not os.path.isdir(path_data): os.mkdir(path_data) \n",
        "\n",
        "n = -1\n",
        "npdata2folder(path_data, X_train[:n], Y_train[:n], X_val[:n], Y_val[:n], classes)"
      ],
      "execution_count": 0,
      "outputs": []
    }
  ]
}