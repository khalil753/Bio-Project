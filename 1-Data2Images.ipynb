{
  "nbformat": 4,
  "nbformat_minor": 0,
  "metadata": {
    "colab": {
      "name": "Data2Images.ipynb",
      "provenance": [],
      "toc_visible": true,
      "authorship_tag": "ABX9TyMDjyjQpPy7J2FrxmmvUi7C",
      "include_colab_link": true
    },
    "kernelspec": {
      "name": "python3",
      "display_name": "Python 3"
    }
  },
  "cells": [
    {
      "cell_type": "markdown",
      "metadata": {
        "id": "view-in-github",
        "colab_type": "text"
      },
      "source": [
        "<a href=\"https://colab.research.google.com/github/khalil753/Bio-Project/blob/master/Data2Images.ipynb\" target=\"_parent\"><img src=\"https://colab.research.google.com/assets/colab-badge.svg\" alt=\"Open In Colab\"/></a>"
      ]
    },
    {
      "cell_type": "markdown",
      "metadata": {
        "id": "7UHy-SM10rcq",
        "colab_type": "text"
      },
      "source": [
        "# **Things to do before coding**"
      ]
    },
    {
      "cell_type": "markdown",
      "metadata": {
        "id": "3k5mlq7jCsLQ",
        "colab_type": "text"
      },
      "source": [
        "## *Load libraries*"
      ]
    },
    {
      "cell_type": "code",
      "metadata": {
        "hide_input": false,
        "id": "BDSdXL_ow8cw",
        "colab_type": "code",
        "outputId": "8d6c8b4e-d02e-46df-c52f-a9f0a09a2c98",
        "colab": {
          "base_uri": "https://localhost:8080/",
          "height": 71
        }
      },
      "source": [
        "import fastai\n",
        "from fastai.vision import *\n",
        "from fastai.widgets import *\n",
        "\n",
        "import numpy as np\n",
        "import pandas as pd\n",
        "\n",
        "from pathlib import Path\n",
        "import os\n",
        "from os import listdir\n",
        "\n",
        "import matplotlib as mpl\n",
        "from matplotlib.pyplot import imshow\n",
        "import matplotlib.pyplot as plt\n",
        "\n",
        "import seaborn as sns\n",
        "\n",
        "import torch\n",
        "import torch.nn as nn\n",
        "import torch.nn.functional as F\n",
        "from torch import tensor"
      ],
      "execution_count": 0,
      "outputs": [
        {
          "output_type": "stream",
          "text": [
            "/usr/local/lib/python3.6/dist-packages/statsmodels/tools/_testing.py:19: FutureWarning: pandas.util.testing is deprecated. Use the functions in the public API at pandas.testing instead.\n",
            "  import pandas.util.testing as tm\n"
          ],
          "name": "stderr"
        }
      ]
    },
    {
      "cell_type": "markdown",
      "metadata": {
        "id": "cGCxVAs8GMeW",
        "colab_type": "text"
      },
      "source": [
        "## *Configure Matplotlib*\n",
        "\n",
        "Here I fix some properties of matplotlib so that  it prints inline and has the aesthetics of the Seaborn library."
      ]
    },
    {
      "cell_type": "code",
      "metadata": {
        "id": "zO4iAf8XkPG6",
        "colab_type": "code",
        "colab": {}
      },
      "source": [
        "%reload_ext autoreload\n",
        "%autoreload 2\n",
        "%matplotlib inline\n",
        "sns.set()"
      ],
      "execution_count": 0,
      "outputs": []
    },
    {
      "cell_type": "markdown",
      "metadata": {
        "id": "1Jk7bu7qGP1Q",
        "colab_type": "text"
      },
      "source": [
        "## *Mount Google Drive*\n",
        "\n",
        "I saved the training and validation images in my Google Drive so that I could access them from here through GD."
      ]
    },
    {
      "cell_type": "code",
      "metadata": {
        "id": "LRDE-f-4kPwK",
        "colab_type": "code",
        "outputId": "83b11632-5ef6-4c16-8919-d07a640b76e8",
        "colab": {
          "base_uri": "https://localhost:8080/",
          "height": 122
        }
      },
      "source": [
        "from google.colab import drive\n",
        "drive.mount('/content/gdrive')"
      ],
      "execution_count": 0,
      "outputs": [
        {
          "output_type": "stream",
          "text": [
            "Go to this URL in a browser: https://accounts.google.com/o/oauth2/auth?client_id=947318989803-6bn6qk8qdgf4n4g3pfee6491hc0brc4i.apps.googleusercontent.com&redirect_uri=urn%3aietf%3awg%3aoauth%3a2.0%3aoob&response_type=code&scope=email%20https%3a%2f%2fwww.googleapis.com%2fauth%2fdocs.test%20https%3a%2f%2fwww.googleapis.com%2fauth%2fdrive%20https%3a%2f%2fwww.googleapis.com%2fauth%2fdrive.photos.readonly%20https%3a%2f%2fwww.googleapis.com%2fauth%2fpeopleapi.readonly\n",
            "\n",
            "Enter your authorization code:\n",
            "··········\n",
            "Mounted at /content/gdrive\n"
          ],
          "name": "stdout"
        }
      ]
    },
    {
      "cell_type": "markdown",
      "metadata": {
        "id": "rN4-Qdh8CMXa",
        "colab_type": "text"
      },
      "source": [
        "## *Define Global Variables*\n",
        "\n",
        "Here I define the path of where I store the data and the losses. Also the classes of the classifier"
      ]
    },
    {
      "cell_type": "code",
      "metadata": {
        "id": "umjxrfWNr1JU",
        "colab_type": "code",
        "colab": {}
      },
      "source": [
        "path = Path(r\"/content/gdrive/My Drive/Mestría en Física de Sistemas Complejos/Tercer semestre/Inference in Biological Systems/Project\")\n",
        "path_data = path/'data'\n",
        "classes = ['healthy', 'tumor', 'injury']"
      ],
      "execution_count": 0,
      "outputs": []
    },
    {
      "cell_type": "markdown",
      "metadata": {
        "id": "2wQAlg0fkZgs",
        "colab_type": "text"
      },
      "source": [
        "# **Loading the data**"
      ]
    },
    {
      "cell_type": "markdown",
      "metadata": {
        "id": "0k4oDsljkc81",
        "colab_type": "text"
      },
      "source": [
        " ### As numpy arrays"
      ]
    },
    {
      "cell_type": "code",
      "metadata": {
        "colab_type": "code",
        "id": "QFU-pEng089P",
        "outputId": "84d61079-d182-4935-e78b-d9c419eb2caf",
        "colab": {
          "base_uri": "https://localhost:8080/",
          "height": 119
        }
      },
      "source": [
        "files = listdir(path)\n",
        "for file in files:\n",
        "  file = Path(file)\n",
        "  if file.suffix == '.npy':\n",
        "    print(file)\n",
        "    file_stem = str(file.stem)\n",
        "    if file_stem == 'real_classes_test' or file_stem == 'real_classes_train':\n",
        "      exec(f'{file_stem} = np.load(path/file, allow_pickle = True)') \n",
        "    else: \n",
        "      exec(f'{file_stem} = np.load(path/file, allow_pickle = True)')\n",
        "X_val = X_test\n",
        "Y_val = Y_test"
      ],
      "execution_count": 0,
      "outputs": [
        {
          "output_type": "stream",
          "text": [
            "X_train.npy\n",
            "X_test.npy\n",
            "Y_train.npy\n",
            "real_classes_test.npy\n",
            "Y_test.npy\n",
            "real_classes_train.npy\n"
          ],
          "name": "stdout"
        }
      ]
    },
    {
      "cell_type": "markdown",
      "metadata": {
        "colab_type": "text",
        "id": "92_fiF7R9ucC"
      },
      "source": [
        "### Transforming the data into rgb [0:255]\n"
      ]
    },
    {
      "cell_type": "code",
      "metadata": {
        "id": "HV_VVDaaZDED",
        "colab_type": "code",
        "colab": {}
      },
      "source": [
        "def flatten(X):\n",
        "    org_shape = X.shape\n",
        "    n_pixel = torch.tensor(org_shape[1:]).prod().item()\n",
        "    X = X.view((-1,n_pixel))\n",
        "    return X, org_shape\n",
        "\n",
        "def changeRGBtype(X, rgb_type='0:1', from_professor=False):\n",
        "  typeX = type(X)\n",
        "  X = torch.tensor(X)\n",
        "  X, org_shape = flatten(X)\n",
        "  if rgb_type == '0:1':\n",
        "    if X.max() <= 1 and X.min() >= 0:\n",
        "      print(\"Already rgb [0,1]\")\n",
        "      return np.array(X.view(org_shape)) if typeX==np.ndarray else X.view(org_shape)\n",
        "    if from_professor:\n",
        "      X -= X.min(axis=1)[0].unsqueeze(-1)\n",
        "    else:\n",
        "      X /= 256\n",
        "    return X.view(org_shape)\n",
        "  if rgb_type == '0:255':\n",
        "    if X.max() >= 1 and X.max() <= 255:\n",
        "      print(\"Already rgb [0,255]\")\n",
        "      return np.array(X.view(org_shape)) if typeX==np.ndarray else X.view(org_shape)\n",
        "    if from_professor:\n",
        "      X -= X.min(axis=1)[0].unsqueeze(-1)\n",
        "      X /= 2\n",
        "    X *= 255\n",
        "    if typeX == np.ndarray:\n",
        "      return np.array(X.view(org_shape)).astype(np.uint8)\n",
        "    return X.view(org_shape).int()"
      ],
      "execution_count": 0,
      "outputs": []
    },
    {
      "cell_type": "code",
      "metadata": {
        "id": "TJ__MbNg59v8",
        "colab_type": "code",
        "colab": {}
      },
      "source": [
        "X_val = changeRGBtype(X_val, rgb_type='0:255', from_professor=True)\n",
        "X_train = changeRGBtype(X_train, rgb_type='0:255', from_professor=True)\n",
        "imshow(X_val[3])"
      ],
      "execution_count": 0,
      "outputs": []
    },
    {
      "cell_type": "markdown",
      "metadata": {
        "id": "ZXUIOueSCRrm",
        "colab_type": "text"
      },
      "source": [
        "### Saving Images in folders\n",
        "\n",
        "To upload the images in fast.ai, the easiest way is to have them as image files; the name of the folders in which they're saved allows fast.ai  to deduce the class of the image and whether it belongs to the trianing or validation set"
      ]
    },
    {
      "cell_type": "code",
      "metadata": {
        "id": "nOvQ_f_v3At6",
        "colab_type": "code",
        "colab": {}
      },
      "source": [
        "def create_folders(path, fnames, classes):\n",
        "  for name in fnames:\n",
        "    if not os.path.isdir(path/name): \n",
        "      os.mkdir(path/name)      \n",
        "    for label in classes:\n",
        "      if not os.path.isdir(path/name/label):     \n",
        "        os.mkdir(path/name/label)\n",
        "\n",
        "def save_imgs(path, X, y, classes):\n",
        "  labels = map(lambda x: classes[x], y)\n",
        "  c = len(classes)\n",
        "  count = dict([*zip(classes, np.zeros(c, dtype=np.int))])\n",
        "  for x, label in zip(X, labels):\n",
        "    im = Image.fromarray(x)\n",
        "    count[label] += 1\n",
        "    n_class = count[label]\n",
        "    path_img = path/label/f'{n_class}.png'\n",
        "    if not os.path.isfile(path_img): im.save(path_img) "
      ],
      "execution_count": 0,
      "outputs": []
    },
    {
      "cell_type": "code",
      "metadata": {
        "colab_type": "code",
        "id": "K6RKr7bTR3na",
        "colab": {}
      },
      "source": [
        "def npdata2folder(path, X_train, y_train, X_val, y_val, classes):\n",
        "  fnames = ['val', 'train']\n",
        "  create_folders(path, fnames, classes)\n",
        "\n",
        "  data_sets = [X_val, X_train]\n",
        "  data_labels = [y_val, y_train]\n",
        "  for X, y, fname in zip(data_sets, data_labels, fnames):   \n",
        "    save_imgs(path/fname, X, y, classes)"
      ],
      "execution_count": 0,
      "outputs": []
    },
    {
      "cell_type": "code",
      "metadata": {
        "id": "jBtsCrPGR4gP",
        "colab_type": "code",
        "colab": {}
      },
      "source": [
        "path_data = path/'data'\n",
        "if not os.path.isdir(path_data): os.mkdir(path_data) \n",
        "\n",
        "n = -1\n",
        "npdata2folder(path_data, X_train[:n], Y_train[:n], X_val[:n], Y_val[:n], classes)"
      ],
      "execution_count": 0,
      "outputs": []
    }
  ]
}
