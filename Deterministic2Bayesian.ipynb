{
  "nbformat": 4,
  "nbformat_minor": 0,
  "metadata": {
    "colab": {
      "name": "Deterministic2Bayesian.ipynb",
      "provenance": [],
      "authorship_tag": "ABX9TyOLwxrkBxYuoBD5Zgc1/IIP",
      "include_colab_link": true
    },
    "kernelspec": {
      "name": "python3",
      "display_name": "Python 3"
    }
  },
  "cells": [
    {
      "cell_type": "markdown",
      "metadata": {
        "id": "view-in-github",
        "colab_type": "text"
      },
      "source": [
        "<a href=\"https://colab.research.google.com/github/khalil753/Bio-Project/blob/master/Deterministic2Bayesian.ipynb\" target=\"_parent\"><img src=\"https://colab.research.google.com/assets/colab-badge.svg\" alt=\"Open In Colab\"/></a>"
      ]
    },
    {
      "cell_type": "markdown",
      "metadata": {
        "colab_type": "text",
        "id": "zy5qsBSbQU3R"
      },
      "source": [
        "# **Mounting libraries and defining global variables**"
      ]
    },
    {
      "cell_type": "code",
      "metadata": {
        "hide_input": false,
        "colab_type": "code",
        "outputId": "73cb1748-cc8b-4b78-801d-9158e9d6ff30",
        "id": "bH5RKh60QU1c",
        "colab": {
          "base_uri": "https://localhost:8080/",
          "height": 71
        }
      },
      "source": [
        "import fastai\n",
        "from fastai.vision import *\n",
        "from fastai.widgets import *\n",
        "\n",
        "import numpy as np\n",
        "import pandas as pd\n",
        "\n",
        "from pathlib import Path\n",
        "import os\n",
        "from os import listdir\n",
        "\n",
        "import matplotlib as mpl\n",
        "from matplotlib.pyplot import imshow\n",
        "import matplotlib.pyplot as plt\n",
        "\n",
        "import seaborn as sns\n",
        "\n",
        "import torch\n",
        "import torch.nn as nn\n",
        "import torch.nn.functional as F\n",
        "from torch import tensor"
      ],
      "execution_count": 0,
      "outputs": [
        {
          "output_type": "stream",
          "text": [
            "/usr/local/lib/python3.6/dist-packages/statsmodels/tools/_testing.py:19: FutureWarning: pandas.util.testing is deprecated. Use the functions in the public API at pandas.testing instead.\n",
            "  import pandas.util.testing as tm\n"
          ],
          "name": "stderr"
        }
      ]
    },
    {
      "cell_type": "code",
      "metadata": {
        "colab_type": "code",
        "id": "cnuinQ0FQU0Q",
        "colab": {}
      },
      "source": [
        "%reload_ext autoreload\n",
        "%autoreload 2\n",
        "%matplotlib inline\n",
        "sns.set()"
      ],
      "execution_count": 0,
      "outputs": []
    },
    {
      "cell_type": "code",
      "metadata": {
        "colab_type": "code",
        "outputId": "83b11632-5ef6-4c16-8919-d07a640b76e8",
        "id": "eKNzm6VhQUzO",
        "colab": {
          "base_uri": "https://localhost:8080/",
          "height": 122
        }
      },
      "source": [
        "from google.colab import drive\n",
        "drive.mount('/content/gdrive')"
      ],
      "execution_count": 0,
      "outputs": [
        {
          "output_type": "stream",
          "text": [
            "Go to this URL in a browser: https://accounts.google.com/o/oauth2/auth?client_id=947318989803-6bn6qk8qdgf4n4g3pfee6491hc0brc4i.apps.googleusercontent.com&redirect_uri=urn%3aietf%3awg%3aoauth%3a2.0%3aoob&response_type=code&scope=email%20https%3a%2f%2fwww.googleapis.com%2fauth%2fdocs.test%20https%3a%2f%2fwww.googleapis.com%2fauth%2fdrive%20https%3a%2f%2fwww.googleapis.com%2fauth%2fdrive.photos.readonly%20https%3a%2f%2fwww.googleapis.com%2fauth%2fpeopleapi.readonly\n",
            "\n",
            "Enter your authorization code:\n",
            "··········\n",
            "Mounted at /content/gdrive\n"
          ],
          "name": "stdout"
        }
      ]
    },
    {
      "cell_type": "code",
      "metadata": {
        "colab_type": "code",
        "id": "OZ3PE0iOQUyS",
        "colab": {}
      },
      "source": [
        "path = Path(r\"/content/gdrive/My Drive/Mestría en Física de Sistemas Complejos/Tercer semestre/Inference in Biological Systems/Project\")\n",
        "path_data = path/'data'\n",
        "path_losses = path_data/\"Losses\"\n",
        "classes = ['healthy', 'tumor', 'injury']"
      ],
      "execution_count": 0,
      "outputs": []
    },
    {
      "cell_type": "markdown",
      "metadata": {
        "colab_type": "text",
        "id": "sbHO9xQrQUyE"
      },
      "source": [
        "# **Defining Bayesian Dropout modules**"
      ]
    },
    {
      "cell_type": "code",
      "metadata": {
        "colab_type": "code",
        "id": "7XqMd4uoQUxG",
        "colab": {}
      },
      "source": [
        "class BYDropout(nn.Module):\n",
        "  \"\"\"Custom Dropout module to be used for MC Dropout\"\"\"\n",
        "\n",
        "  def __init__(self, p:float, activate=True):\n",
        "    super().__init__()\n",
        "    self.activate = activate\n",
        "    self.p = p\n",
        "\n",
        "  def forward(self, x):\n",
        "    return F.dropout(x, self.p, training=self.training or self.activate)\n",
        "\n",
        "class BYDropout2d(nn.Module):\n",
        "  \"\"\"Custom Dropout2d module to be used for MC Dropout\"\"\"\n",
        "\n",
        "  def __init__(self, p:float, activate=True):\n",
        "    super().__init__()\n",
        "    self.activate = activate\n",
        "    self.p = p\n",
        "\n",
        "  def forward(self, x):\n",
        "    return F.dropout2d(x, self.p, training=self.training or self.activate)\n",
        "\n",
        "def set_bayes(m, activate:bool=True):\n",
        "  if isinstance(m, BYDropout) or isinstance(m, BYDropout2d):\n",
        "      print(f\"Current active : {c.activate}\")\n",
        "      print(f\"Switching to : {activate}\")\n",
        "      m.activate = activate\n",
        "\n",
        "def set_p(module, p):\n",
        "  if isinstance(module, BYDropout) or isinstance(module, BYDropout2d):\n",
        "    module.p = p\n",
        "\n",
        "def Dropout2BY(model:nn.Module):\n",
        "  \"\"\"\n",
        "  Convert modules of type Dropout to BYDropout inside the model\n",
        "  \"\"\"\n",
        "  for child_name, child in model.named_children():\n",
        "    if isinstance(child, nn.Dropout):\n",
        "      # First we grab p from the child\n",
        "      p = child.p         \n",
        "      new_layer = BYDropout(p)\n",
        "      setattr(model, child_name, new_layer)\n",
        "    if isinstance(child, nn.Dropout2d):\n",
        "      # First we grab p from the child\n",
        "      p = child.p         \n",
        "      new_layer = BYDropout2d(p)\n",
        "      setattr(model, child_name, new_layer)\n",
        "    else:\n",
        "      Dropout2BY(child)"
      ],
      "execution_count": 0,
      "outputs": []
    },
    {
      "cell_type": "code",
      "metadata": {
        "id": "dHLKh4oOUWjG",
        "colab_type": "code",
        "colab": {}
      },
      "source": [
        "nn.Module.to_BY = lambda"
      ],
      "execution_count": 0,
      "outputs": []
    },
    {
      "cell_type": "code",
      "metadata": {
        "id": "-udpPCFnbWLA",
        "colab_type": "code",
        "colab": {}
      },
      "source": [
        "loading_data = False\n",
        "make_bayes = False\n",
        "making_preds = False\n",
        "caculating_uncertanties = False"
      ],
      "execution_count": 0,
      "outputs": []
    },
    {
      "cell_type": "markdown",
      "metadata": {
        "id": "TRRAmbRXDbCG",
        "colab_type": "text"
      },
      "source": [
        "### Loading the model"
      ]
    },
    {
      "cell_type": "code",
      "metadata": {
        "id": "ESa5S4el6akK",
        "colab_type": "code",
        "colab": {}
      },
      "source": [
        "if making_preds:\n",
        "  learn = load_learner(path_data)\n",
        "  m = learn.model"
      ],
      "execution_count": 0,
      "outputs": []
    },
    {
      "cell_type": "code",
      "metadata": {
        "id": "G7qtoy13rlgb",
        "colab_type": "code",
        "colab": {}
      },
      "source": [
        "if loading_data:\n",
        "  np.random.seed(42)\n",
        "  path_data = path/'data'\n",
        "  tfms = get_transforms(do_flip=False)\n",
        "  data = ImageDataBunch.from_folder(path_data, ds_tfms=tfms, size=32,  \n",
        "                                    train=\"train\",\n",
        "                                    valid=\"val\",\n",
        "                                    classes=classes, bs=200).normalize(imagenet_stats)"
      ],
      "execution_count": 0,
      "outputs": []
    },
    {
      "cell_type": "code",
      "metadata": {
        "id": "zdmDf7Fh6fZt",
        "colab_type": "code",
        "colab": {}
      },
      "source": [
        "if making_preds:\n",
        "  learn.data = data                                       "
      ],
      "execution_count": 0,
      "outputs": []
    },
    {
      "cell_type": "markdown",
      "metadata": {
        "id": "FOHE6tNJGZM5",
        "colab_type": "text"
      },
      "source": [
        "### Adding the Dropout layers"
      ]
    },
    {
      "cell_type": "code",
      "metadata": {
        "id": "WoBk2Xa5zHhR",
        "colab_type": "code",
        "colab": {}
      },
      "source": [
        "if make_bayes:\n",
        "  BasicBlock = type(learn.model[0][5][0])\n",
        "  def addDPs(m):\n",
        "    m_dp = []\n",
        "    try: iter(m)\n",
        "    except TypeError: return m\n",
        "    for mod in m:\n",
        "      if not isinstance(mod, BasicBlock):\n",
        "        mod = addDPs(mod)\n",
        "      m_dp.append(mod)\n",
        "      if isinstance(mod, BasicBlock): m_dp.append(BYDropout2d(p=0.5))\n",
        "    \n",
        "    return nn.Sequential(*m_dp) "
      ],
      "execution_count": 0,
      "outputs": []
    },
    {
      "cell_type": "code",
      "metadata": {
        "id": "9ki2rGCxDiAS",
        "colab_type": "code",
        "colab": {}
      },
      "source": [
        "if make_bayes:\n",
        "  a = list(m[0])\n",
        "  a.insert(1, BYDropout2d(p=0.5))\n",
        "  m[0] = nn.Sequential(*a)\n",
        "  m = nn.Sequential(*m)"
      ],
      "execution_count": 0,
      "outputs": []
    },
    {
      "cell_type": "code",
      "metadata": {
        "id": "8ezxikfZ6FoW",
        "colab_type": "code",
        "colab": {}
      },
      "source": [
        "if make_bayes:\n",
        "  m = addDPs(m)"
      ],
      "execution_count": 0,
      "outputs": []
    },
    {
      "cell_type": "code",
      "metadata": {
        "id": "bn3XN6xjxhD8",
        "colab_type": "code",
        "colab": {}
      },
      "source": [
        "if make_bayes:\n",
        "  learn.model = m\n",
        "  Dropout2BY(learn.model)"
      ],
      "execution_count": 0,
      "outputs": []
    },
    {
      "cell_type": "markdown",
      "metadata": {
        "id": "o6hveEEiGyRe",
        "colab_type": "text"
      },
      "source": [
        "### Making predictions"
      ]
    },
    {
      "cell_type": "code",
      "metadata": {
        "id": "L7dY6cRq28lD",
        "colab_type": "code",
        "colab": {}
      },
      "source": [
        "if making_preds:\n",
        "  def get_n_scores(learn, ds_type=DatasetType.Train, n_pred=10):\n",
        "    bs =  learn.data.batch_size\n",
        "    n_data = len(learn.data.train_ds)\n",
        "    all_scores = torch.zeros((n_data - n_data % bs,0,3))    #\n",
        "    for i in range(n_pred):\n",
        "      scores, target = get_preds(learn.model, learn.data.train_dl)\n",
        "      all_scores = torch.cat((all_scores, scores.unsqueeze(1)), dim=1)\n",
        "      print(f\"Predictions done: {i}/{n_preds}\")\n",
        "    return all_scores, target"
      ],
      "execution_count": 0,
      "outputs": []
    },
    {
      "cell_type": "code",
      "metadata": {
        "id": "9B_cUQf1mtoE",
        "colab_type": "code",
        "colab": {}
      },
      "source": [
        "if making_preds:\n",
        "  set_bayes(learn.model, activate=True)\n",
        "  learn.model.apply(lambda x: set_p(x, 0.1))\n",
        "  train_scores, train_target = get_n_scores(learn, n_pred=20)"
      ],
      "execution_count": 0,
      "outputs": []
    },
    {
      "cell_type": "code",
      "metadata": {
        "id": "P--O84Ky2Mzp",
        "colab_type": "code",
        "colab": {}
      },
      "source": [
        "if making_preds:\n",
        "  prev_train_scores = torch.load(path_data/'train_scores.pt') \n",
        "  train_scores = torch.cat((prev_train_scores, train_scores), 2)\n",
        "  torch.save(train_scores, path_data/'train_scores.pt') "
      ],
      "execution_count": 0,
      "outputs": []
    },
    {
      "cell_type": "code",
      "metadata": {
        "colab_type": "code",
        "id": "4lfnUyf0wUOy",
        "colab": {}
      },
      "source": [
        "if caculating_uncertanties:\n",
        "  train_scores = torch.load(path_data/'train_scores.pt') \n",
        "  probs = train_scores.softmax(1)\n",
        "  probs.shape"
      ],
      "execution_count": 0,
      "outputs": []
    },
    {
      "cell_type": "markdown",
      "metadata": {
        "id": "k7uWdNAI1Zlb",
        "colab_type": "text"
      },
      "source": [
        "### Calculating the Image Uncertanties"
      ]
    },
    {
      "cell_type": "code",
      "metadata": {
        "id": "dgi20UzLe9fv",
        "colab_type": "code",
        "colab": {}
      },
      "source": [
        "if caculating_uncertanties:\n",
        "  def uncertanties(probs):\n",
        "    uncertanties = torch.zeros((12200,))\n",
        "    for s, sample in enumerate(probs):\n",
        "      T = len(sample)\n",
        "      for p in sample:\n",
        "        mean = p.mean()\n",
        "        ale = (p.diag() - p.unsqueeze(-1) * p)\n",
        "        x = p - mean\n",
        "        epi = (x.unsqueeze(-1) * x)\n",
        "        uncertanties[s] = (ale + epi).sum()/T\n",
        "    return uncertanties"
      ],
      "execution_count": 0,
      "outputs": []
    },
    {
      "cell_type": "code",
      "metadata": {
        "id": "hmDsgxgJWWRk",
        "colab_type": "code",
        "colab": {}
      },
      "source": [
        "if caculating_uncertanties:\n",
        "  train_scores = train_scores.view((-1,3,21))"
      ],
      "execution_count": 0,
      "outputs": []
    },
    {
      "cell_type": "code",
      "metadata": {
        "id": "bPdcc4EXeoDt",
        "colab_type": "code",
        "colab": {}
      },
      "source": [
        "if caculating_uncertanties:\n",
        "  unc = torch.zeros((len(train_scores),))\n",
        "  for i, score in enumerate(train_scores):\n",
        "    unc[i] = tensor(calc_uncertainity_softmax(score)[0])#.sum()\n",
        "  unc[:5]"
      ],
      "execution_count": 0,
      "outputs": []
    },
    {
      "cell_type": "code",
      "metadata": {
        "id": "8uZN9wDXerYO",
        "colab_type": "code",
        "colab": {}
      },
      "source": [
        "# if caculating_uncertanties:\n",
        "#   n_plots = 1\n",
        "#   fig, ax = plt.subplots(1, n_plots, figsize = (6*n_plots,4))\n",
        "\n",
        "#   ax.get_xaxis().tick_bottom()\n",
        "#   ax.get_yaxis().tick_left()\n",
        "#   ax.spines[\"top\"].set_visible(False)\n",
        "#   ax.spines[\"right\"].set_visible(False)\n",
        "#   # ax.set_xlabel(\"Variance\", fontsize=16)\n",
        "#   ax.set_title(\"Variance\", fontsize=18)\n",
        "\n",
        "#   ax.hist(unc, bins=20, color=\"#3F5D7D\", rwidth=.95)  \n",
        "#   plt.tight_layout()\n",
        "#   plt.show()\n",
        "#   #fig.savefig(path + \"Final Report/typefig/Amount.pgf\")"
      ],
      "execution_count": 0,
      "outputs": []
    },
    {
      "cell_type": "markdown",
      "metadata": {
        "id": "x7zrCnJbOQgK",
        "colab_type": "text"
      },
      "source": [
        "### Removing high uncertanty images from training"
      ]
    },
    {
      "cell_type": "code",
      "metadata": {
        "id": "uWCYzRJvM3Yh",
        "colab_type": "code",
        "colab": {}
      },
      "source": [
        "if caculating_uncertanties:\n",
        "  low_S_idxs = torch.arange(len(train_S))[train_S <= 1.25]\n",
        "  len(low_S_idxs), len(train_S)"
      ],
      "execution_count": 0,
      "outputs": []
    }
  ]
}