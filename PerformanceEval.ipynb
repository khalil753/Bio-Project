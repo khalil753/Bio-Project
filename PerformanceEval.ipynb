{
  "nbformat": 4,
  "nbformat_minor": 0,
  "metadata": {
    "colab": {
      "name": "PerformanceEval.ipynb",
      "provenance": [],
      "toc_visible": true,
      "authorship_tag": "ABX9TyNB/LDyIFUYYBjjqUJFt2t8",
      "include_colab_link": true
    },
    "kernelspec": {
      "name": "python3",
      "display_name": "Python 3"
    }
  },
  "cells": [
    {
      "cell_type": "markdown",
      "metadata": {
        "id": "view-in-github",
        "colab_type": "text"
      },
      "source": [
        "<a href=\"https://colab.research.google.com/github/khalil753/Bio-Project/blob/master/PerformanceEval.ipynb\" target=\"_parent\"><img src=\"https://colab.research.google.com/assets/colab-badge.svg\" alt=\"Open In Colab\"/></a>"
      ]
    },
    {
      "cell_type": "markdown",
      "metadata": {
        "colab_type": "text",
        "id": "izCJoHbvaicx"
      },
      "source": [
        "# **Mounting libraries and defining global variables**"
      ]
    },
    {
      "cell_type": "code",
      "metadata": {
        "hide_input": false,
        "colab_type": "code",
        "id": "bH5RKh60QU1c",
        "outputId": "c6bc2d86-9cf2-4d0b-a05c-b462cd2ff3ee",
        "colab": {
          "base_uri": "https://localhost:8080/",
          "height": 71
        }
      },
      "source": [
        "import fastai\n",
        "from fastai.vision import *\n",
        "from fastai.widgets import *\n",
        "\n",
        "import numpy as np\n",
        "import pandas as pd\n",
        "\n",
        "from pathlib import Path\n",
        "import os\n",
        "from os import listdir\n",
        "\n",
        "import matplotlib as mpl\n",
        "from matplotlib.pyplot import imshow\n",
        "import matplotlib.pyplot as plt\n",
        "\n",
        "import seaborn as sns\n",
        "\n",
        "import torch\n",
        "import torch.nn as nn\n",
        "import torch.nn.functional as F\n",
        "from torch import tensor"
      ],
      "execution_count": 0,
      "outputs": [
        {
          "output_type": "stream",
          "text": [
            "/usr/local/lib/python3.6/dist-packages/statsmodels/tools/_testing.py:19: FutureWarning: pandas.util.testing is deprecated. Use the functions in the public API at pandas.testing instead.\n",
            "  import pandas.util.testing as tm\n"
          ],
          "name": "stderr"
        }
      ]
    },
    {
      "cell_type": "code",
      "metadata": {
        "colab_type": "code",
        "id": "cnuinQ0FQU0Q",
        "colab": {}
      },
      "source": [
        "%reload_ext autoreload\n",
        "%autoreload 2\n",
        "%matplotlib inline\n",
        "sns.set()\n",
        "plt.style.use('ggplot')\n"
      ],
      "execution_count": 0,
      "outputs": []
    },
    {
      "cell_type": "code",
      "metadata": {
        "colab_type": "code",
        "outputId": "d6bc1cb1-e179-4f0c-f51c-4252b5992585",
        "id": "eKNzm6VhQUzO",
        "colab": {
          "base_uri": "https://localhost:8080/",
          "height": 122
        }
      },
      "source": [
        "from google.colab import drive\n",
        "drive.mount('/content/gdrive')"
      ],
      "execution_count": 0,
      "outputs": [
        {
          "output_type": "stream",
          "text": [
            "Go to this URL in a browser: https://accounts.google.com/o/oauth2/auth?client_id=947318989803-6bn6qk8qdgf4n4g3pfee6491hc0brc4i.apps.googleusercontent.com&redirect_uri=urn%3aietf%3awg%3aoauth%3a2.0%3aoob&response_type=code&scope=email%20https%3a%2f%2fwww.googleapis.com%2fauth%2fdocs.test%20https%3a%2f%2fwww.googleapis.com%2fauth%2fdrive%20https%3a%2f%2fwww.googleapis.com%2fauth%2fdrive.photos.readonly%20https%3a%2f%2fwww.googleapis.com%2fauth%2fpeopleapi.readonly\n",
            "\n",
            "Enter your authorization code:\n",
            "··········\n",
            "Mounted at /content/gdrive\n"
          ],
          "name": "stdout"
        }
      ]
    },
    {
      "cell_type": "code",
      "metadata": {
        "colab_type": "code",
        "id": "OZ3PE0iOQUyS",
        "colab": {}
      },
      "source": [
        "path = Path(r\"/content/gdrive/My Drive/Mestría en Física de Sistemas Complejos/Tercer semestre/Inference in Biological Systems/Project\")\n",
        "path_data = path/'data'\n",
        "path_losses = path_data/\"Losses\"\n",
        "classes = ['healthy', 'tumor', 'injury']\n",
        "\n",
        "def class2n(y):\n",
        "  return tensor([*map(lambda x: {'healthy':0, 'tumor':1, 'injury':2}[x], y)])\n",
        "\n",
        "def low_loss_idx(loss, idx, th):\n",
        "  n_good = (loss <= th).sum()\n",
        "  return idx[-n_good:]\n",
        "\n",
        "def conf_mat(preds, y):\n",
        "  c = y.max() + 1\n",
        "  preds = preds.argmax(1)\n",
        "  cf = np.zeros((c,c))\n",
        "  for pred, true in zip(preds, y):\n",
        "    cf[true, pred] += 1\n",
        "  return cf\n"
      ],
      "execution_count": 0,
      "outputs": []
    },
    {
      "cell_type": "markdown",
      "metadata": {
        "id": "kQCJh_rm9Ttw",
        "colab_type": "text"
      },
      "source": [
        "# **Evaluating performance**"
      ]
    },
    {
      "cell_type": "markdown",
      "metadata": {
        "id": "__3ZskI0OKOw",
        "colab_type": "text"
      },
      "source": [
        "## *Comparing Accuracies*"
      ]
    },
    {
      "cell_type": "code",
      "metadata": {
        "colab_type": "code",
        "id": "afykSLxbmAN6",
        "outputId": "7c35dca0-12be-43c8-f733-e48af36172af",
        "colab": {
          "base_uri": "https://localhost:8080/",
          "height": 34
        }
      },
      "source": [
        "data = pd.read_csv(path_data/'Clean Data'/'val.csv')\n",
        "y = class2n(data['y'])\n",
        "for n in range(1,4):\n",
        "  exec(f'preds{n} = tensor(np.load(path_data/\"Preds\"/\"p{n}.npy\"))')\n",
        "  exec(f'acc{n} = accuracy(preds{n}, y)')\n",
        "\n",
        "acc1, acc2, acc3"
      ],
      "execution_count": 0,
      "outputs": [
        {
          "output_type": "execute_result",
          "data": {
            "text/plain": [
              "(tensor(0.7062), tensor(0.7210), tensor(0.7158))"
            ]
          },
          "metadata": {
            "tags": []
          },
          "execution_count": 19
        }
      ]
    },
    {
      "cell_type": "code",
      "metadata": {
        "id": "JPSr-Bzx3E4x",
        "colab_type": "code",
        "colab": {
          "base_uri": "https://localhost:8080/",
          "height": 204
        },
        "outputId": "af0a0e58-05c9-4710-91d6-8fd6d2f4771c"
      },
      "source": [
        "cf1 = conf_mat(preds1, y)\n",
        "cf2 = conf_mat(preds2, y)\n",
        "cf3 = conf_mat(preds3, y)\n",
        "\n",
        "print(cf1,'\\n')\n",
        "print(cf2,'\\n')\n",
        "print(cf3)"
      ],
      "execution_count": 109,
      "outputs": [
        {
          "output_type": "stream",
          "text": [
            "[[1786.  214.  874.]\n",
            " [ 275. 1493.  446.]\n",
            " [ 186.  152. 1882.]] \n",
            "\n",
            "[[2011.  526.  337.]\n",
            " [ 364. 1768.   82.]\n",
            " [ 347.  383. 1490.]] \n",
            "\n",
            "[[2001.  279.  594.]\n",
            " [ 390. 1511.  313.]\n",
            " [ 315.  186. 1719.]]\n"
          ],
          "name": "stdout"
        }
      ]
    },
    {
      "cell_type": "code",
      "metadata": {
        "id": "rQnNiH7G3Rop",
        "colab_type": "code",
        "colab": {
          "base_uri": "https://localhost:8080/",
          "height": 68
        },
        "outputId": "2701eae7-28d0-4681-ebe2-096b8cd7985f"
      },
      "source": [
        "np.zeros((3,3))"
      ],
      "execution_count": 102,
      "outputs": [
        {
          "output_type": "execute_result",
          "data": {
            "text/plain": [
              "array([[0., 0., 0.],\n",
              "       [0., 0., 0.],\n",
              "       [0., 0., 0.]])"
            ]
          },
          "metadata": {
            "tags": []
          },
          "execution_count": 102
        }
      ]
    },
    {
      "cell_type": "markdown",
      "metadata": {
        "id": "wIsFMykCPwJP",
        "colab_type": "text"
      },
      "source": [
        "## *Studying performance in Low Loss Samples*"
      ]
    },
    {
      "cell_type": "code",
      "metadata": {
        "id": "gJWuJ1pIP8gr",
        "colab_type": "code",
        "colab": {}
      },
      "source": [
        "for n in range(1,4):\n",
        "  exec(f'loss{n} = torch.load(path_data/\"Losses\"/\"val_losses{n}.pt\")')\n",
        "  exec(f'idx{n} = torch.load(path_data/\"Losses\"/\"val_idxs{n}.pt\")')"
      ],
      "execution_count": 0,
      "outputs": []
    },
    {
      "cell_type": "code",
      "metadata": {
        "id": "QhH0v9kiSVIa",
        "colab_type": "code",
        "outputId": "6011cb9f-0bce-41a3-8671-534823375bf9",
        "colab": {
          "base_uri": "https://localhost:8080/",
          "height": 285
        }
      },
      "source": [
        "ths = np.linspace(.68, 1.5, 50)      # list of loss thresholds\n",
        "accs1, accs2, accs3 = [], [], []\n",
        "for th in ths:\n",
        "  for n in range(1,4):\n",
        "    exec(f'll_idx{n} = low_loss_idx(loss{n}, idx{n}, th)')\n",
        "    exec(f'preds{n} = tensor(np.load(path_data/\"Preds\"/\"p{n}.npy\"))')\n",
        "    exec(f'acc{n} = accuracy(preds{n}[ll_idx{n}], y[ll_idx{n}])')\n",
        "    exec(f'accs{n}.append(acc{n})')\n",
        "\n",
        "fig, ax = plt.subplots(1, 1, figsize=(6,4))\n",
        "lines = ax.plot(ths, accs1, ths, accs2, ths, accs3, lw=2)    \n",
        "ax.legend(lines, ('Dirty', 'Clean 1', 'Clean 2'))"
      ],
      "execution_count": 97,
      "outputs": [
        {
          "output_type": "execute_result",
          "data": {
            "text/plain": [
              "<matplotlib.legend.Legend at 0x7f2507dd7e48>"
            ]
          },
          "metadata": {
            "tags": []
          },
          "execution_count": 97
        },
        {
          "output_type": "display_data",
          "data": {
            "image/png": "[encoded data removed]",
            "text/plain": [
              "<Figure size 432x288 with 1 Axes>"
            ]
          },
          "metadata": {
            "tags": []
          }
        }
      ]
    },
    {
      "cell_type": "code",
      "metadata": {
        "id": "_8285XKYztPA",
        "colab_type": "code",
        "outputId": "ba98a8e7-eb4e-4453-ae3b-5a6e86bfe823",
        "colab": {
          "base_uri": "https://localhost:8080/",
          "height": 142
        }
      },
      "source": [
        "ns1 = np.zeros(3, dtype=np.int)\n",
        "ns2 = np.zeros(3, dtype=np.int)\n",
        "ns3 = np.zeros(3, dtype=np.int)\n",
        "for i, label in enumerate(classes):\n",
        "  ns1[i] = len(data.loc[data['y']==label])\n",
        "\n",
        "for i, label in enumerate(classes):\n",
        "  ns2[i] = len(data.loc[data['y']==label].loc[data['clean']==True])\n",
        "\n",
        "for i, label in enumerate(classes):\n",
        "  ns3[i] = len(data.loc[data['y']==label].loc[data['clean2']==True])\n",
        "\n",
        "ns = pd.DataFrame(np.array([ns1,ns2,ns3]).T, index=['healthy', 'tumor', 'injury'], columns=['Dirty', 'Clean 1', 'Clean 2'])\n",
        "ns "
      ],
      "execution_count": 0,
      "outputs": [
        {
          "output_type": "execute_result",
          "data": {
            "text/html": [
              "<div>\n",
              "<style scoped>\n",
              "    .dataframe tbody tr th:only-of-type {\n",
              "        vertical-align: middle;\n",
              "    }\n",
              "\n",
              "    .dataframe tbody tr th {\n",
              "        vertical-align: top;\n",
              "    }\n",
              "\n",
              "    .dataframe thead th {\n",
              "        text-align: right;\n",
              "    }\n",
              "</style>\n",
              "<table border=\"1\" class=\"dataframe\">\n",
              "  <thead>\n",
              "    <tr style=\"text-align: right;\">\n",
              "      <th></th>\n",
              "      <th>Dirty</th>\n",
              "      <th>Clean 1</th>\n",
              "      <th>Clean 2</th>\n",
              "    </tr>\n",
              "  </thead>\n",
              "  <tbody>\n",
              "    <tr>\n",
              "      <th>healthy</th>\n",
              "      <td>2874</td>\n",
              "      <td>1767</td>\n",
              "      <td>2030</td>\n",
              "    </tr>\n",
              "    <tr>\n",
              "      <th>tumor</th>\n",
              "      <td>2214</td>\n",
              "      <td>1469</td>\n",
              "      <td>1481</td>\n",
              "    </tr>\n",
              "    <tr>\n",
              "      <th>injury</th>\n",
              "      <td>2220</td>\n",
              "      <td>1681</td>\n",
              "      <td>1601</td>\n",
              "    </tr>\n",
              "  </tbody>\n",
              "</table>\n",
              "</div>"
            ],
            "text/plain": [
              "         Dirty  Clean 1  Clean 2\n",
              "healthy   2874     1767     2030\n",
              "tumor     2214     1469     1481\n",
              "injury    2220     1681     1601"
            ]
          },
          "metadata": {
            "tags": []
          },
          "execution_count": 81
        }
      ]
    },
    {
      "cell_type": "code",
      "metadata": {
        "id": "OT35jnOaRCdN",
        "colab_type": "code",
        "outputId": "e990d7c6-d012-490f-afc7-453fa6c2a45a",
        "colab": {
          "base_uri": "https://localhost:8080/",
          "height": 142
        }
      },
      "source": [
        "rr = (ns1[:,None] - ns.iloc[:,1:3])*100/ ns1[:,None]\n",
        "rr.round(decimals=2)"
      ],
      "execution_count": 98,
      "outputs": [
        {
          "output_type": "execute_result",
          "data": {
            "text/html": [
              "<div>\n",
              "<style scoped>\n",
              "    .dataframe tbody tr th:only-of-type {\n",
              "        vertical-align: middle;\n",
              "    }\n",
              "\n",
              "    .dataframe tbody tr th {\n",
              "        vertical-align: top;\n",
              "    }\n",
              "\n",
              "    .dataframe thead th {\n",
              "        text-align: right;\n",
              "    }\n",
              "</style>\n",
              "<table border=\"1\" class=\"dataframe\">\n",
              "  <thead>\n",
              "    <tr style=\"text-align: right;\">\n",
              "      <th></th>\n",
              "      <th>Clean 1</th>\n",
              "      <th>Clean 2</th>\n",
              "    </tr>\n",
              "  </thead>\n",
              "  <tbody>\n",
              "    <tr>\n",
              "      <th>healthy</th>\n",
              "      <td>38.52</td>\n",
              "      <td>29.37</td>\n",
              "    </tr>\n",
              "    <tr>\n",
              "      <th>tumor</th>\n",
              "      <td>33.65</td>\n",
              "      <td>33.11</td>\n",
              "    </tr>\n",
              "    <tr>\n",
              "      <th>injury</th>\n",
              "      <td>24.28</td>\n",
              "      <td>27.88</td>\n",
              "    </tr>\n",
              "  </tbody>\n",
              "</table>\n",
              "</div>"
            ],
            "text/plain": [
              "         Clean 1  Clean 2\n",
              "healthy    38.52    29.37\n",
              "tumor      33.65    33.11\n",
              "injury     24.28    27.88"
            ]
          },
          "metadata": {
            "tags": []
          },
          "execution_count": 98
        }
      ]
    },
    {
      "cell_type": "code",
      "metadata": {
        "id": "zoPD3JuRPPwX",
        "colab_type": "code",
        "colab": {}
      },
      "source": [
        ""
      ],
      "execution_count": 0,
      "outputs": []
    }
  ]
}