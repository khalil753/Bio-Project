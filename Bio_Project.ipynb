{
  "nbformat": 4,
  "nbformat_minor": 0,
  "metadata": {
    "colab": {
      "name": "Bio-Project.ipynb",
      "provenance": [],
      "authorship_tag": "ABX9TyP2sOUDfLuegJHaNX6/WG27",
      "include_colab_link": true
    },
    "kernelspec": {
      "name": "python3",
      "display_name": "Python 3"
    }
  },
  "cells": [
    {
      "cell_type": "markdown",
      "metadata": {
        "id": "view-in-github",
        "colab_type": "text"
      },
      "source": [
        "<a href=\"https://colab.research.google.com/github/khalil753/Bio-Project/blob/master/Bio_Project.ipynb\" target=\"_parent\"><img src=\"https://colab.research.google.com/assets/colab-badge.svg\" alt=\"Open In Colab\"/></a>"
      ]
    },
    {
      "cell_type": "markdown",
      "metadata": {
        "id": "46UPTOO5cliG",
        "colab_type": "text"
      },
      "source": [
        "[link](https://colab.research.google.com/drive/1puJ0KaF9YUuzJyFe_jJH8r4nztwlrq_t#scrollTo=7UHy-SM10rcq)"
      ]
    },
    {
      "cell_type": "markdown",
      "metadata": {
        "id": "7TB6APJxeI-1",
        "colab_type": "text"
      },
      "source": [
        "# **Bio Project**\n",
        "\n"
      ]
    },
    {
      "cell_type": "code",
      "metadata": {
        "id": "AjoI7XjMcqgA",
        "colab_type": "code",
        "colab": {}
      },
      "source": [
        ""
      ],
      "execution_count": 0,
      "outputs": []
    }
  ]
}