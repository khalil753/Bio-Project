{
  "nbformat": 4,
  "nbformat_minor": 0,
  "metadata": {
    "colab": {
      "name": "3-CleanTraining.ipynb",
      "provenance": [],
      "toc_visible": true,
      "authorship_tag": "ABX9TyPi4lHXwDZrd2wJHjc1s1ry",
      "include_colab_link": true
    },
    "kernelspec": {
      "name": "python3",
      "display_name": "Python 3"
    }
  },
  "cells": [
    {
      "cell_type": "markdown",
      "metadata": {
        "id": "view-in-github",
        "colab_type": "text"
      },
      "source": [
        "<a href=\"https://colab.research.google.com/github/khalil753/Bio-Project/blob/master/3_CleanTraining.ipynb\" target=\"_parent\"><img src=\"https://colab.research.google.com/assets/colab-badge.svg\" alt=\"Open In Colab\"/></a>"
      ]
    },
    {
      "cell_type": "markdown",
      "metadata": {
        "colab_type": "text",
        "id": "zy5qsBSbQU3R"
      },
      "source": [
        "# **Mounting libraries and defining global variables**"
      ]
    },
    {
      "cell_type": "code",
      "metadata": {
        "hide_input": false,
        "colab_type": "code",
        "id": "bH5RKh60QU1c",
        "colab": {
          "base_uri": "https://localhost:8080/",
          "height": 71
        },
        "outputId": "e98d7251-03ed-424b-d87f-fab4989a9aa9"
      },
      "source": [
        "import fastai\n",
        "from fastai.vision import *\n",
        "from fastai.widgets import *\n",
        "\n",
        "import numpy as np\n",
        "import pandas as pd\n",
        "\n",
        "from pathlib import Path\n",
        "import os\n",
        "from os import listdir\n",
        "\n",
        "import matplotlib as mpl\n",
        "from matplotlib.pyplot import imshow\n",
        "import matplotlib.pyplot as plt\n",
        "\n",
        "import seaborn as sns\n",
        "\n",
        "import torch\n",
        "import torch.nn as nn\n",
        "import torch.nn.functional as F\n",
        "from torch import tensor"
      ],
      "execution_count": null,
      "outputs": [
        {
          "output_type": "stream",
          "text": [
            "/usr/local/lib/python3.6/dist-packages/statsmodels/tools/_testing.py:19: FutureWarning: pandas.util.testing is deprecated. Use the functions in the public API at pandas.testing instead.\n",
            "  import pandas.util.testing as tm\n"
          ],
          "name": "stderr"
        }
      ]
    },
    {
      "cell_type": "code",
      "metadata": {
        "colab_type": "code",
        "id": "cnuinQ0FQU0Q",
        "colab": {}
      },
      "source": [
        "%reload_ext autoreload\n",
        "%autoreload 2\n",
        "%matplotlib inline\n",
        "sns.set()"
      ],
      "execution_count": null,
      "outputs": []
    },
    {
      "cell_type": "code",
      "metadata": {
        "colab_type": "code",
        "id": "OZ3PE0iOQUyS",
        "colab": {}
      },
      "source": [
        "path = Path(r\"\")\n",
        "path_data = path/'data'\n",
        "path_losses = path/\"Performance Metrics\"/\"Losses\"\n",
        "path_models = path/\"models\"\n",
        "\n",
        "classes = ['healthy', 'tumor', 'injury']"
      ],
      "execution_count": null,
      "outputs": []
    },
    {
      "cell_type": "code",
      "metadata": {
        "id": "nsevLd5EeRzR",
        "colab_type": "code",
        "colab": {}
      },
      "source": [
        "second_loop = True\n",
        "model_folder = path_models/\"Model 3\" if second_loop else path_models/\"Model 2\""
      ],
      "execution_count": null,
      "outputs": []
    },
    {
      "cell_type": "markdown",
      "metadata": {
        "colab_type": "text",
        "id": "MmGogIKwHNGl"
      },
      "source": [
        "# **Training the model with the clean dataset**"
      ]
    },
    {
      "cell_type": "markdown",
      "metadata": {
        "id": "KI6edW0ww8fj",
        "colab_type": "text"
      },
      "source": [
        "## *Loading Data and Model* "
      ]
    },
    {
      "cell_type": "code",
      "metadata": {
        "id": "rDpFBq01C9v2",
        "colab_type": "code",
        "colab": {}
      },
      "source": [
        "tfms = get_transforms(do_flip=True)\n",
        "\n",
        "train = pd.read_csv(path_data/\"Clean Data\"/\"train.csv\")\n",
        "if second_loop:\n",
        "  train = train.loc[train[\"clean2\"]==True]\n",
        "else:\n",
        "  train = train.loc[train[\"clean\"]==True]\n",
        "val = pd.read_csv(path_data/\"Clean Data\"/\"val.csv\")\n",
        "\n",
        "data = (ImageList.from_df(train.append(val), path_data)\n",
        "                 .split_from_df()\n",
        "                 .label_from_df(classes=classes)\n",
        "                 .transform(tfms, size=32)\n",
        "                 .databunch(bs=100, num_workers=16)\n",
        "                 .normalize(imagenet_stats))"
      ],
      "execution_count": null,
      "outputs": []
    },
    {
      "cell_type": "code",
      "metadata": {
        "colab_type": "code",
        "id": "ziBJAB5FHNG8",
        "colab": {}
      },
      "source": [
        "learn = cnn_learner(data, models.resnet18, metrics=accuracy)"
      ],
      "execution_count": null,
      "outputs": []
    },
    {
      "cell_type": "markdown",
      "metadata": {
        "id": "jiwhxluJmCTO",
        "colab_type": "text"
      },
      "source": [
        "## *Training the fully connected layers of the NN*"
      ]
    },
    {
      "cell_type": "code",
      "metadata": {
        "id": "B6Ap604zYJdP",
        "colab_type": "code",
        "colab": {}
      },
      "source": [
        "training = True"
      ],
      "execution_count": null,
      "outputs": []
    },
    {
      "cell_type": "code",
      "metadata": {
        "colab_type": "code",
        "id": "Pg5NlpWbHNHF",
        "colab": {
          "base_uri": "https://localhost:8080/",
          "height": 514
        },
        "outputId": "81d004f9-a307-4446-d0f5-089bc2734770"
      },
      "source": [
        "if training:\n",
        "  learn.fit_one_cycle(15, max_lr=0.002)"
      ],
      "execution_count": null,
      "outputs": [
        {
          "output_type": "display_data",
          "data": {
            "text/html": [
              "<table border=\"1\" class=\"dataframe\">\n",
              "  <thead>\n",
              "    <tr style=\"text-align: left;\">\n",
              "      <th>epoch</th>\n",
              "      <th>train_loss</th>\n",
              "      <th>valid_loss</th>\n",
              "      <th>accuracy</th>\n",
              "      <th>time</th>\n",
              "    </tr>\n",
              "  </thead>\n",
              "  <tbody>\n",
              "    <tr>\n",
              "      <td>0</td>\n",
              "      <td>1.350320</td>\n",
              "      <td>0.993740</td>\n",
              "      <td>0.600848</td>\n",
              "      <td>00:39</td>\n",
              "    </tr>\n",
              "    <tr>\n",
              "      <td>1</td>\n",
              "      <td>1.045777</td>\n",
              "      <td>0.854092</td>\n",
              "      <td>0.636699</td>\n",
              "      <td>00:39</td>\n",
              "    </tr>\n",
              "    <tr>\n",
              "      <td>2</td>\n",
              "      <td>0.798413</td>\n",
              "      <td>0.781865</td>\n",
              "      <td>0.644636</td>\n",
              "      <td>00:39</td>\n",
              "    </tr>\n",
              "    <tr>\n",
              "      <td>3</td>\n",
              "      <td>0.610123</td>\n",
              "      <td>0.637376</td>\n",
              "      <td>0.706349</td>\n",
              "      <td>00:39</td>\n",
              "    </tr>\n",
              "    <tr>\n",
              "      <td>4</td>\n",
              "      <td>0.510948</td>\n",
              "      <td>0.614889</td>\n",
              "      <td>0.706897</td>\n",
              "      <td>00:39</td>\n",
              "    </tr>\n",
              "    <tr>\n",
              "      <td>5</td>\n",
              "      <td>0.463038</td>\n",
              "      <td>0.598645</td>\n",
              "      <td>0.712370</td>\n",
              "      <td>00:38</td>\n",
              "    </tr>\n",
              "    <tr>\n",
              "      <td>6</td>\n",
              "      <td>0.430015</td>\n",
              "      <td>0.580120</td>\n",
              "      <td>0.728654</td>\n",
              "      <td>00:39</td>\n",
              "    </tr>\n",
              "    <tr>\n",
              "      <td>7</td>\n",
              "      <td>0.419899</td>\n",
              "      <td>0.582460</td>\n",
              "      <td>0.722770</td>\n",
              "      <td>00:40</td>\n",
              "    </tr>\n",
              "    <tr>\n",
              "      <td>8</td>\n",
              "      <td>0.401627</td>\n",
              "      <td>0.579580</td>\n",
              "      <td>0.732895</td>\n",
              "      <td>00:39</td>\n",
              "    </tr>\n",
              "    <tr>\n",
              "      <td>9</td>\n",
              "      <td>0.381293</td>\n",
              "      <td>0.570487</td>\n",
              "      <td>0.726875</td>\n",
              "      <td>00:39</td>\n",
              "    </tr>\n",
              "    <tr>\n",
              "      <td>10</td>\n",
              "      <td>0.378121</td>\n",
              "      <td>0.555740</td>\n",
              "      <td>0.724548</td>\n",
              "      <td>00:39</td>\n",
              "    </tr>\n",
              "    <tr>\n",
              "      <td>11</td>\n",
              "      <td>0.366228</td>\n",
              "      <td>0.571354</td>\n",
              "      <td>0.719759</td>\n",
              "      <td>00:39</td>\n",
              "    </tr>\n",
              "    <tr>\n",
              "      <td>12</td>\n",
              "      <td>0.358364</td>\n",
              "      <td>0.571013</td>\n",
              "      <td>0.723864</td>\n",
              "      <td>00:40</td>\n",
              "    </tr>\n",
              "    <tr>\n",
              "      <td>13</td>\n",
              "      <td>0.351579</td>\n",
              "      <td>0.572392</td>\n",
              "      <td>0.722770</td>\n",
              "      <td>00:40</td>\n",
              "    </tr>\n",
              "    <tr>\n",
              "      <td>14</td>\n",
              "      <td>0.346377</td>\n",
              "      <td>0.570883</td>\n",
              "      <td>0.722359</td>\n",
              "      <td>00:40</td>\n",
              "    </tr>\n",
              "  </tbody>\n",
              "</table>"
            ],
            "text/plain": [
              "<IPython.core.display.HTML object>"
            ]
          },
          "metadata": {
            "tags": []
          }
        }
      ]
    },
    {
      "cell_type": "code",
      "metadata": {
        "colab_type": "code",
        "id": "zkERZ6IMHNHV",
        "colab": {}
      },
      "source": [
        "if training:\n",
        "  learn.save(model_folder/\"stage-1\")"
      ],
      "execution_count": null,
      "outputs": []
    },
    {
      "cell_type": "markdown",
      "metadata": {
        "id": "Afy3dLHamUYR",
        "colab_type": "text"
      },
      "source": [
        "\n",
        "\n",
        "## *Fine tuning the model*"
      ]
    },
    {
      "cell_type": "code",
      "metadata": {
        "colab_type": "code",
        "id": "Eotxa1IHHNHj",
        "colab": {
          "base_uri": "https://localhost:8080/",
          "height": 359
        },
        "outputId": "d0e67f62-663c-4c7b-8cd5-9a95093ed2fa"
      },
      "source": [
        "if training:\n",
        "  learn.load(model_folder/'stage-1')\n",
        "  learn.unfreeze()\n",
        "  learn.fit_one_cycle(10, max_lr=slice(3e-5,3e-4))"
      ],
      "execution_count": null,
      "outputs": [
        {
          "output_type": "display_data",
          "data": {
            "text/html": [
              "<table border=\"1\" class=\"dataframe\">\n",
              "  <thead>\n",
              "    <tr style=\"text-align: left;\">\n",
              "      <th>epoch</th>\n",
              "      <th>train_loss</th>\n",
              "      <th>valid_loss</th>\n",
              "      <th>accuracy</th>\n",
              "      <th>time</th>\n",
              "    </tr>\n",
              "  </thead>\n",
              "  <tbody>\n",
              "    <tr>\n",
              "      <td>0</td>\n",
              "      <td>0.354687</td>\n",
              "      <td>0.561700</td>\n",
              "      <td>0.717843</td>\n",
              "      <td>00:40</td>\n",
              "    </tr>\n",
              "    <tr>\n",
              "      <td>1</td>\n",
              "      <td>0.350873</td>\n",
              "      <td>0.617363</td>\n",
              "      <td>0.711002</td>\n",
              "      <td>00:40</td>\n",
              "    </tr>\n",
              "    <tr>\n",
              "      <td>2</td>\n",
              "      <td>0.342816</td>\n",
              "      <td>0.578866</td>\n",
              "      <td>0.734127</td>\n",
              "      <td>00:40</td>\n",
              "    </tr>\n",
              "    <tr>\n",
              "      <td>3</td>\n",
              "      <td>0.333290</td>\n",
              "      <td>0.584537</td>\n",
              "      <td>0.723727</td>\n",
              "      <td>00:40</td>\n",
              "    </tr>\n",
              "    <tr>\n",
              "      <td>4</td>\n",
              "      <td>0.322853</td>\n",
              "      <td>0.547350</td>\n",
              "      <td>0.728790</td>\n",
              "      <td>00:40</td>\n",
              "    </tr>\n",
              "    <tr>\n",
              "      <td>5</td>\n",
              "      <td>0.306196</td>\n",
              "      <td>0.594249</td>\n",
              "      <td>0.712507</td>\n",
              "      <td>00:41</td>\n",
              "    </tr>\n",
              "    <tr>\n",
              "      <td>6</td>\n",
              "      <td>0.296198</td>\n",
              "      <td>0.573149</td>\n",
              "      <td>0.729064</td>\n",
              "      <td>00:41</td>\n",
              "    </tr>\n",
              "    <tr>\n",
              "      <td>7</td>\n",
              "      <td>0.284463</td>\n",
              "      <td>0.609778</td>\n",
              "      <td>0.705802</td>\n",
              "      <td>00:41</td>\n",
              "    </tr>\n",
              "    <tr>\n",
              "      <td>8</td>\n",
              "      <td>0.288649</td>\n",
              "      <td>0.596307</td>\n",
              "      <td>0.713054</td>\n",
              "      <td>00:41</td>\n",
              "    </tr>\n",
              "    <tr>\n",
              "      <td>9</td>\n",
              "      <td>0.287328</td>\n",
              "      <td>0.590216</td>\n",
              "      <td>0.715791</td>\n",
              "      <td>00:41</td>\n",
              "    </tr>\n",
              "  </tbody>\n",
              "</table>"
            ],
            "text/plain": [
              "<IPython.core.display.HTML object>"
            ]
          },
          "metadata": {
            "tags": []
          }
        }
      ]
    },
    {
      "cell_type": "code",
      "metadata": {
        "colab_type": "code",
        "id": "I_C0PZVwHNHu",
        "colab": {}
      },
      "source": [
        "if training: \n",
        "  learn.save(model_folder/'stage-2')"
      ],
      "execution_count": null,
      "outputs": []
    },
    {
      "cell_type": "markdown",
      "metadata": {
        "id": "8xUzvWeM5kHI",
        "colab_type": "text"
      },
      "source": [
        "# **Studying the new Lossses**"
      ]
    },
    {
      "cell_type": "code",
      "metadata": {
        "id": "BuxqZYAy_tor",
        "colab_type": "code",
        "colab": {}
      },
      "source": [
        "calculating_losses = True"
      ],
      "execution_count": null,
      "outputs": []
    },
    {
      "cell_type": "markdown",
      "metadata": {
        "id": "j0qiM0Zo_5Vt",
        "colab_type": "text"
      },
      "source": [
        "### Calculating Validation an Training Loss"
      ]
    },
    {
      "cell_type": "code",
      "metadata": {
        "colab_type": "code",
        "id": "KbTSfVi_l7uD",
        "colab": {}
      },
      "source": [
        "if calculating_losses:\n",
        "  tfms = get_transforms(do_flip=True)\n",
        "\n",
        "  train = pd.read_csv(path_data/\"Clean Data\"/\"train.csv\")\n",
        "  val = pd.read_csv(path_data/\"Clean Data\"/\"val.csv\")\n",
        "\n",
        "  data = (ImageList.from_df(train.append(val), path_data)\n",
        "                  .split_from_df()\n",
        "                  .label_from_df(classes=classes)\n",
        "                  .transform(tfms, size=32)\n",
        "                  .databunch(bs=100, num_workers=16)\n",
        "                  .normalize(imagenet_stats))"
      ],
      "execution_count": null,
      "outputs": []
    },
    {
      "cell_type": "code",
      "metadata": {
        "id": "1DKhPSXG95GV",
        "colab_type": "code",
        "colab": {}
      },
      "source": [
        "if calculating_losses:\n",
        "  learn.load(model_folder/'stage-2')"
      ],
      "execution_count": null,
      "outputs": []
    },
    {
      "cell_type": "code",
      "metadata": {
        "colab_type": "code",
        "id": "SCd1sChg_NQU",
        "colab": {
          "base_uri": "https://localhost:8080/",
          "height": 17
        },
        "outputId": "11aa3658-f0d1-4dce-cd6e-3ad6c02c1d60"
      },
      "source": [
        "if calculating_losses:\n",
        "  learn.data = data\n",
        "  val_interp = ClassificationInterpretation.from_learner(learn, ds_type=DatasetType.Valid)\n",
        "  train_interp = ClassificationInterpretation.from_learner(learn, ds_type=DatasetType.Train)"
      ],
      "execution_count": null,
      "outputs": [
        {
          "output_type": "display_data",
          "data": {
            "text/html": [
              ""
            ],
            "text/plain": [
              "<IPython.core.display.HTML object>"
            ]
          },
          "metadata": {
            "tags": []
          }
        },
        {
          "output_type": "display_data",
          "data": {
            "text/html": [
              ""
            ],
            "text/plain": [
              "<IPython.core.display.HTML object>"
            ]
          },
          "metadata": {
            "tags": []
          }
        }
      ]
    },
    {
      "cell_type": "code",
      "metadata": {
        "colab_type": "code",
        "id": "lWYs_a35EIZW",
        "colab": {}
      },
      "source": [
        "if calculating_losses:\n",
        "  n = 3 if second_loop else 2\n",
        "  (val_losses, val_idxs), (train_losses, train_idxs) = val_interp.top_losses(), train_interp.top_losses()\n",
        "  torch.save(train_losses, path_losses/f'train_losses{n}.pt')\n",
        "  torch.save(train_idxs, path_losses/f'train_idxs{n}.pt')\n",
        "  torch.save(val_losses, path_losses/f'val_losses{n}.pt')\n",
        "  torch.save(val_idxs, path_losses/f'val_idxs{n}.pt')"
      ],
      "execution_count": null,
      "outputs": []
    },
    {
      "cell_type": "markdown",
      "metadata": {
        "id": "y4OyoTDcPbij",
        "colab_type": "text"
      },
      "source": [
        "## *Saving Predictions and Confusion Matrix*\n",
        "\n",
        "We save the predictions to not have to recalculate them in the future"
      ]
    },
    {
      "cell_type": "code",
      "metadata": {
        "id": "NzjcpENW0ftc",
        "colab_type": "code",
        "colab": {}
      },
      "source": [
        "if calculating_losses:\n",
        "  cm = val_interp.confusion_matrix()\n",
        "  preds = val_interp.preds\n",
        "  n = 3 if second_loop else 2\n",
        "  np.save(path/\"Performance Metrics\"/\"Confusion Matrices\"/f\"CM{n}\", cm)\n",
        "  np.save(path/\"Performance Metrics\"/\"Preds\"/f\"p{n}\", preds)"
      ],
      "execution_count": null,
      "outputs": []
    },
    {
      "cell_type": "markdown",
      "metadata": {
        "colab_type": "text",
        "id": "hBUPwR86_NQ_"
      },
      "source": [
        "### Plotting Loss Histograms"
      ]
    },
    {
      "cell_type": "code",
      "metadata": {
        "colab_type": "code",
        "id": "MEJxzSEx_NRD",
        "colab": {}
      },
      "source": [
        "n = 3 if second_loop else 2\n",
        "train_losses = torch.load(path_losses/f'train_losses{n}.pt')\n",
        "val_losses = torch.load(path_losses/f'val_losses{n}.pt')\n",
        "losses = [train_losses, val_losses]\n",
        "\n",
        "train_idxs = torch.load(path_losses/f'train_idxs{n}.pt')\n",
        "val_idxs = torch.load(path_losses/f'val_idxs{n}.pt')\n",
        "losses = [train_losses, val_losses]\n",
        "idxs = [train_idxs, val_idxs]"
      ],
      "execution_count": null,
      "outputs": []
    },
    {
      "cell_type": "code",
      "metadata": {
        "colab_type": "code",
        "id": "jE1polAi_NRU",
        "colab": {
          "base_uri": "https://localhost:8080/",
          "height": 293
        },
        "outputId": "c7892966-47fe-4af6-8da1-c117240bfd8f"
      },
      "source": [
        "n = 3 if second_loop else 2\n",
        "n_plots = 2\n",
        "fig, ax = plt.subplots(1, n_plots, figsize = (6*n_plots,4))\n",
        "\n",
        "names = [\"Train\", \"Validation\"]\n",
        "bins = [230, 380]\n",
        "for name, loss, axis, b in zip(names, losses, ax, bins):\n",
        "  axis.set_xlim(-0.1,1.5)\n",
        "  axis.set_ylim(0,900)\n",
        "  axis.set_title(name + \" Losses\", fontsize=18)\n",
        "  hist = axis.hist(loss, bins=b, color=\"#3F5D7D\", rwidth=.95)  \n",
        "plt.tight_layout()\n",
        "plt.show()\n",
        "fig.savefig(path/\"figs\"/f\"Loss_Hist{n}.eps\")"
      ],
      "execution_count": null,
      "outputs": [
        {
          "output_type": "display_data",
          "data": {
            "image/png": "[encoded data removed]",
            "text/plain": [
              "<Figure size 864x288 with 2 Axes>"
            ]
          },
          "metadata": {
            "tags": []
          }
        }
      ]
    },
    {
      "cell_type": "markdown",
      "metadata": {
        "id": "sCO_1zgNiXN_",
        "colab_type": "text"
      },
      "source": [
        "# **An extra round of clean-up**"
      ]
    },
    {
      "cell_type": "code",
      "metadata": {
        "id": "iyGn0PyBA4kw",
        "colab_type": "code",
        "colab": {
          "base_uri": "https://localhost:8080/",
          "height": 327
        },
        "outputId": "47a68de5-20bb-4642-c064-7e0d3b4083ce"
      },
      "source": [
        "train = pd.read_csv(path_data/\"Clean Data\"/\"train.csv\")\n",
        "val = pd.read_csv(path_data/\"Clean Data\"/\"val.csv\")\n",
        "\n",
        "dfs = [train, val]\n",
        "thresholds = [0.5, 1]\n",
        "names = [\"train\", \"val\"]\n",
        "bins = [40, 60]\n",
        "xlims  = [(-.05, .55),(-.05, 1.05)]\n",
        "n_plots = 2\n",
        "fig, ax = plt.subplots(1, n_plots, figsize = (6*n_plots,4))\n",
        "\n",
        "for loss, idx, th, df, name, axis, b, xlim in zip (losses, idxs, thresholds, dfs, names, ax, bins, xlims):\n",
        "  # Adding a column clean to indicate the low loss samples\n",
        "  n_good = (loss <= th).sum()\n",
        "  good_idx = idx[-n_good:]\n",
        "  clean = np.zeros(len(df), dtype=bool)\n",
        "  clean[good_idx] = True\n",
        "  df[\"clean2\"] = clean\n",
        "  df.to_csv(path_data/\"Clean Data\"/f\"{name}.csv\", index=False)\n",
        "\n",
        "  # Printing new percentage of clean samples\n",
        "  # and number of samples that changed type ie. they went from \n",
        "  # clean to dirty or viceversa\n",
        "  changed_sampels = (df[\"clean2\"] != df[\"clean\"]).sum()\n",
        "  p = float(n_good)/len(df)*100 \n",
        "  print(f\"{name}: {n_good}/{len(df)} = {p:0.0f}%  # of changed sampels: {changed_sampels}\") \n",
        "\n",
        "  # Plotting hists of low loss images\n",
        "  axis.set_xlim(*xlim)\n",
        "  axis.set_ylim(0,900)\n",
        "  axis.set_title(name + \" Losses\", fontsize=18)\n",
        "  axis.hist(loss[-n_good:], bins=b, color=\"#3F5D7D\", rwidth=.95)\n",
        "\n",
        "plt.tight_layout()\n",
        "plt.show()"
      ],
      "execution_count": null,
      "outputs": [
        {
          "output_type": "stream",
          "text": [
            "train: 9589/12335 = 78%  # of changed sampels: 4230\n",
            "val: 5112/7308 = 70%  # of changed sampels: 907\n"
          ],
          "name": "stdout"
        },
        {
          "output_type": "display_data",
          "data": {
            "image/png": "[encoded data removed]",
            "text/plain": [
              "<Figure size 864x288 with 2 Axes>"
            ]
          },
          "metadata": {
            "tags": []
          }
        }
      ]
    },
    {
      "cell_type": "code",
      "metadata": {
        "id": "wPBe3V__YslQ",
        "colab_type": "code",
        "colab": {}
      },
      "source": [
        ""
      ],
      "execution_count": null,
      "outputs": []
    }
  ]
}